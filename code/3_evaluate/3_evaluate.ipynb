{
 "cells": [
  {
   "cell_type": "markdown",
   "metadata": {},
   "source": [
    "# Evaluating an Image\n",
    "\n",
    "Given that we've trained our model, we will want to look for defects in images where we have no labels.\n",
    "This notebook goes through the process of creating an image of lableled defects like the labels that are fed into the FCN."
   ]
  },
  {
   "cell_type": "markdown",
   "metadata": {},
   "source": [
    "The only script that we need is **stitcher.py**. Let's import it"
   ]
  },
  {
   "cell_type": "code",
   "execution_count": 1,
   "metadata": {},
   "outputs": [
    {
     "name": "stderr",
     "output_type": "stream",
     "text": [
      "Using TensorFlow backend.\n"
     ]
    }
   ],
   "source": [
    "from stitcher import make_prediction"
   ]
  },
  {
   "cell_type": "markdown",
   "metadata": {},
   "source": [
    "Next we need to set the variables:\n",
    "\n",
    "**model_fn** is the path to the model file that we load\n",
    "\n",
    "**model_weights_fn** is the path to the model weights file\n",
    "\n",
    "**input_file** is the file we're interested in evaluating\n",
    "\n",
    "**Tol** is the tolerance that we input in the preprocessing (See the preprocessing section)\n",
    "\n",
    "**avg** is 1 if we want to average over rotatations and flips, 0 if we just want to evaluate the image as is\n",
    "\n",
    "**l_shape** see preprocessing section\n",
    "\n",
    "**stride** see preprocessing section\n",
    "\n",
    "**label_file_list** is a list of label images associated with the input file (empty list if none)\n",
    "\n",
    "**thresh** see preprocessing section\n",
    "\n",
    "**plot** true if we want to see the plots here\n",
    "\n",
    "**save_data** true if we want to save the plots to a file\n",
    "\n",
    "**save_dir** directory for where we want to save the data\n",
    "\n",
    "**prefix** if we want to save the images, we can apply a prefix to the image names.\n"
   ]
  },
  {
   "cell_type": "code",
   "execution_count": 2,
   "metadata": {},
   "outputs": [],
   "source": [
    "parent_dir  = \"/home/abid/Dropbox/Development/programs/stem-learning/\"                            \n",
    "results_dir = parent_dir + \"results/Se/\"\n",
    "data_dir = parent_dir + \"data/WSeTe/simulated/3/\"\n",
    "\n",
    "\n",
    "model_fn = results_dir + \"model.json\"                                              \n",
    "model_weights_fn = results_dir + \"weights.h5\"\n",
    "input_file =  data_dir + \"input.tiff\"\n",
    "Tol = 0.05                          \n",
    "avg = 1 \n",
    "# see part 1 for l_shape and stride\n",
    "label_file_list = [data_dir + \"label_Se.tiff\"]\n",
    "thresh = -1\n",
    "plot=True\n",
    "save_data=True\n",
    "save_dir = \"./\"                                                         \n",
    "prefix = \"Se_\""
   ]
  },
  {
   "cell_type": "code",
   "execution_count": null,
   "metadata": {},
   "outputs": [],
   "source": [
    "make_prediction(model_fn, model_weights_fn, input_file, Tol, avg, l_shape,\\\n",
    "                    stride, label_file_list=label_file_list, thresh=thresh, plot=plot, \\\n",
    "                    save_data=save_data, save_dir=save_dir, prefix=prefix)"
   ]
  }
 ],
 "metadata": {
  "kernelspec": {
   "display_name": "Python 3",
   "language": "python",
   "name": "python3"
  },
  "language_info": {
   "codemirror_mode": {
    "name": "ipython",
    "version": 3
   },
   "file_extension": ".py",
   "mimetype": "text/x-python",
   "name": "python",
   "nbconvert_exporter": "python",
   "pygments_lexer": "ipython3",
   "version": "3.7.5"
  }
 },
 "nbformat": 4,
 "nbformat_minor": 2
}
