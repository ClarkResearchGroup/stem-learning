{
 "cells": [
  {
   "cell_type": "code",
   "execution_count": 1,
   "metadata": {
    "colab": {
     "base_uri": "https://localhost:8080/",
     "height": 729
    },
    "executionInfo": {
     "elapsed": 550,
     "status": "ok",
     "timestamp": 1622658598395,
     "user": {
      "displayName": "Abid Khan",
      "photoUrl": "https://lh3.googleusercontent.com/a-/AOh14GivVFCWv7S4nAS4c3Qq8cBjjdHP9QyjkRzG4WaJj1E=s64",
      "userId": "10643521457425689791"
     },
     "user_tz": 300
    },
    "id": "gi2iMlrd_p_c",
    "outputId": "58112078-1639-4b73-c2dd-1000575a42da"
   },
   "outputs": [],
   "source": [
    "from evaluate import *\n",
    "import os\n",
    "from sys import argv\n",
    "import sys\n",
    "import tensorflow as tf\n",
    "\n",
    "parent_dir  = \"/u/skhan/stem-learning/\"\n",
    "\n",
    "sys.path.insert(0, '{}code/cycle_gan'.format(parent_dir))\n",
    "from models import unet_generator\n",
    "\n",
    "idfn        = \"107\" #argv[1]\n",
    "model_type  = \"sim\" #argv[2]\n",
    "lbl         = \"1vacancy\"\n",
    "\n",
    "identifier  = \"20220606_MODEL_unet_dist_gen_fft_10_SIM_pristine_gaussian_0.1_EXP_{}\".format(idfn)\n",
    "results_dir = \"{}results/{}/results_{}/{}/\".format(parent_dir, model_type, identifier, lbl)\n",
    "save_dir    = \"{}evals/\".format(results_dir)\n",
    "gan_cpt_dir = \"{}cycle_gan_results/checkpoints/checkpoint_{}\".format(parent_dir, identifier)"
   ]
  },
  {
   "cell_type": "code",
   "execution_count": 2,
   "metadata": {},
   "outputs": [
    {
     "name": "stderr",
     "output_type": "stream",
     "text": [
      "2022-06-27 15:59:14.771003: I tensorflow/core/platform/cpu_feature_guard.cc:193] This TensorFlow binary is optimized with oneAPI Deep Neural Network Library (oneDNN) to use the following CPU instructions in performance-critical operations:  AVX2 FMA\n",
      "To enable them in other operations, rebuild TensorFlow with the appropriate compiler flags.\n",
      "2022-06-27 15:59:15.249461: I tensorflow/core/common_runtime/gpu/gpu_device.cc:1532] Created device /job:localhost/replica:0/task:0/device:GPU:0 with 38270 MB memory:  -> device: 0, name: NVIDIA A100-SXM4-40GB, pci bus id: 0000:07:00.0, compute capability: 8.0\n"
     ]
    }
   ],
   "source": [
    "if model_type == \"sim\":\n",
    "    generator_exp = unet_generator(1, 1, \"instancenorm\")\n",
    "    generator_sim = unet_generator(1, 1, \"instancenorm\")\n",
    "\n",
    "    def cycle(x):\n",
    "        return generator_sim(generator_exp(x))\n",
    "    \n",
    "    try:\n",
    "        ckpt = tf.train.Checkpoint(generator_exp=generator_exp, generator_sim=generator_sim)\n",
    "        ckpt_manager = tf.train.CheckpointManager(ckpt, gan_cpt_dir, max_to_keep=3)\n",
    "        if ckpt_manager.latest_checkpoint:\n",
    "            cpath = ckpt_manager.latest_checkpoint\n",
    "            ckpt.restore(cpath)\n",
    "    except Exception as e:\n",
    "        print(\"loading checkpoint failed\")\n",
    "        print(e)"
   ]
  },
  {
   "cell_type": "code",
   "execution_count": 3,
   "metadata": {},
   "outputs": [],
   "source": [
    "def cycle_image(cycle, input_file, save_dir, fname, num_channels=1): \n",
    "    print(\"GANNING {}\".format(input_file))\n",
    "    generate_image(cycle, input_file, (256,256), stride=(256,256), avg=False, \\\n",
    "        plot=False, save_data=True, save_dir=save_dir, fname=fname)"
   ]
  },
  {
   "cell_type": "code",
   "execution_count": 4,
   "metadata": {},
   "outputs": [],
   "source": [
    "def evaluate_image(model_type, data_dir, results_dir, lbl, save_dir, save_fn_prefix):\n",
    "    \n",
    "    if not os.path.isdir(save_dir):\n",
    "        os.makedirs(save_dir, exist_ok=True)\n",
    "\n",
    "    model_fn         = results_dir + \"model.json\"                                              \n",
    "    model_weights_fn = results_dir + \"weights.h5\"\n",
    "    input_file = data_dir + \"input.tif\" \n",
    "    if model_type == \"sim\":\n",
    "        cycle_image(cycle, input_file, save_dir, \"{}_cycled.tif\".format(save_fn_prefix))\n",
    "        input_file = \"{}{}_cycled.tif\".format(save_dir, save_fn_prefix)\n",
    "\n",
    "    l_shape = (256, 256)\n",
    "    stride  = (64,64)\n",
    "    plot = False\n",
    "    fname = \"evaluated_labels_{}.tiff\".format(save_fn_prefix)\n",
    "\n",
    "    print(\"EVALUATING {}\".format(input_file))\n",
    "    prediction = evaluate(model_fn, model_weights_fn, input_file, l_shape, stride,\n",
    "                        avg=True, plot=plot, save_data=True, save_dir=save_dir, fname=fname)\n",
    "\n",
    "    label_file_list = [data_dir + \"label_{}.tif\".format(lbl)]\n",
    "    tol    = 0.5\n",
    "    nconvs = 2\n",
    "    r      = 9\n",
    "    prefix = save_fn_prefix\n",
    "    TP, FP, FN, TN, recall, precision, F1, bal_acc = calc_accuracy(prediction, label_file_list, tol=tol, bdy=32,\n",
    "                                                                nconvs=nconvs, r=r, TN=0, plot=plot, \n",
    "                                                                save_data=True, save_dir=save_dir, \n",
    "                                                                prefix=prefix, verbose=False)\n",
    "    return TP, FP, FN"
   ]
  },
  {
   "cell_type": "code",
   "execution_count": 5,
   "metadata": {},
   "outputs": [],
   "source": [
    "if not os.path.isdir(save_dir):\n",
    "        os.makedirs(save_dir, exist_ok=True)\n",
    "        \n",
    "label_csv = \"{}label_row.csv\".format(save_dir)\n",
    "def write_to_file(vals): \n",
    "    with open(label_csv, \"a\") as f:\n",
    "        f.write(vals)"
   ]
  },
  {
   "cell_type": "code",
   "execution_count": 6,
   "metadata": {},
   "outputs": [],
   "source": [
    "if os.path.exists(label_csv):\n",
    "    os.remove(label_csv)"
   ]
  },
  {
   "cell_type": "code",
   "execution_count": 7,
   "metadata": {},
   "outputs": [],
   "source": [
    "write_to_file(\"{}_{}\".format(idfn, model_type))"
   ]
  },
  {
   "cell_type": "code",
   "execution_count": 8,
   "metadata": {},
   "outputs": [
    {
     "name": "stdout",
     "output_type": "stream",
     "text": [
      "GANNING /u/skhan/stem-learning/data/WSe/test_experiment/211_day/RR_1528/input.tif\n",
      "processing data\n",
      "loading model\n",
      "strides: (256, 256)\n",
      "predicting data\n"
     ]
    },
    {
     "name": "stderr",
     "output_type": "stream",
     "text": [
      "2022-06-27 15:59:17.371841: I tensorflow/stream_executor/cuda/cuda_dnn.cc:384] Loaded cuDNN version 8401\n",
      "2022-06-27 15:59:18.049022: I tensorflow/core/platform/default/subprocess.cc:304] Start cannot spawn child process: No such file or directory\n",
      "2022-06-27 15:59:18.049572: I tensorflow/core/platform/default/subprocess.cc:304] Start cannot spawn child process: No such file or directory\n",
      "2022-06-27 15:59:18.049589: W tensorflow/stream_executor/gpu/asm_compiler.cc:80] Couldn't get ptxas version string: INTERNAL: Couldn't invoke ptxas --version\n",
      "2022-06-27 15:59:18.049888: I tensorflow/core/platform/default/subprocess.cc:304] Start cannot spawn child process: No such file or directory\n",
      "2022-06-27 15:59:18.049937: W tensorflow/stream_executor/gpu/redzone_allocator.cc:314] INTERNAL: Failed to launch ptxas\n",
      "Relying on driver to perform ptx compilation. \n",
      "Modify $PATH to customize ptxas location.\n",
      "This message will be only logged once.\n"
     ]
    },
    {
     "name": "stdout",
     "output_type": "stream",
     "text": [
      "stitching data\n",
      "saving data\n",
      "processing data\n",
      "loading model\n",
      "strides: (64, 64)\n",
      "predicting data\n"
     ]
    },
    {
     "name": "stderr",
     "output_type": "stream",
     "text": [
      "2022-06-27 15:59:19.311875: I tensorflow/stream_executor/cuda/cuda_blas.cc:1786] TensorFloat-32 will be used for the matrix multiplication. This will only be logged once.\n"
     ]
    },
    {
     "name": "stdout",
     "output_type": "stream",
     "text": [
      "stitching data\n",
      "saving data\n",
      "GANNING /u/skhan/stem-learning/data/WSe/test_experiment/211_day/RR_1922/input.tif\n",
      "processing data\n",
      "loading model\n",
      "strides: (256, 256)\n",
      "predicting data\n",
      "stitching data\n",
      "saving data\n",
      "processing data\n",
      "loading model\n",
      "strides: (64, 64)\n",
      "predicting data\n",
      "stitching data\n",
      "saving data\n",
      "GANNING /u/skhan/stem-learning/data/WSe/test_experiment/211_day/RR_2124/input.tif\n",
      "processing data\n",
      "loading model\n",
      "strides: (256, 256)\n",
      "predicting data\n",
      "stitching data\n",
      "saving data\n",
      "processing data\n",
      "loading model\n",
      "strides: (64, 64)\n",
      "predicting data\n",
      "stitching data\n",
      "saving data\n",
      "GANNING /u/skhan/stem-learning/data/WSe/test_experiment/107_day/RR_1750/input.tif\n",
      "processing data\n",
      "loading model\n",
      "strides: (256, 256)\n",
      "predicting data\n",
      "stitching data\n",
      "saving data\n",
      "processing data\n",
      "loading model\n",
      "strides: (64, 64)\n",
      "predicting data\n",
      "stitching data\n",
      "saving data\n",
      "GANNING /u/skhan/stem-learning/data/WSe/test_experiment/107_day/RR_1840/input.tif\n",
      "processing data\n",
      "loading model\n",
      "strides: (256, 256)\n",
      "predicting data\n",
      "stitching data\n",
      "saving data\n",
      "processing data\n",
      "loading model\n",
      "strides: (64, 64)\n",
      "predicting data\n",
      "stitching data\n",
      "saving data\n",
      "GANNING /u/skhan/stem-learning/data/WSe/test_experiment/107_day/RR_1847/input.tif\n",
      "processing data\n",
      "loading model\n",
      "strides: (256, 256)\n",
      "predicting data\n",
      "stitching data\n",
      "saving data\n",
      "processing data\n",
      "loading model\n",
      "strides: (64, 64)\n",
      "predicting data\n",
      "stitching data\n",
      "saving data\n"
     ]
    }
   ],
   "source": [
    "for (d, pic) in [(211,1528), (211, 1922), (211, 2124), (107, 1750), (107, 1840), (107, 1847)]:\n",
    "    data_dir = parent_dir + \"data/WSe/test_experiment/{}_day/RR_{}/\".format(d, pic)\n",
    "    TP, FP, FN = evaluate_image(model_type, data_dir, results_dir, lbl, save_dir, \"{}_{}\".format(d, pic))\n",
    "    write_to_file(\",{},{},{}\".format(TP,FP,FN))"
   ]
  },
  {
   "cell_type": "code",
   "execution_count": null,
   "metadata": {},
   "outputs": [],
   "source": []
  }
 ],
 "metadata": {
  "accelerator": "TPU",
  "colab": {
   "name": "3_evaluate.ipynb",
   "provenance": []
  },
  "interpreter": {
   "hash": "ec772f830160d69d38705b4523acafc483ac4a24cc29ee6bb51e4e8e36c25f20"
  },
  "kernelspec": {
   "display_name": "Python 3 (ipykernel)",
   "language": "python",
   "name": "python3"
  },
  "language_info": {
   "codemirror_mode": {
    "name": "ipython",
    "version": 3
   },
   "file_extension": ".py",
   "mimetype": "text/x-python",
   "name": "python",
   "nbconvert_exporter": "python",
   "pygments_lexer": "ipython3",
   "version": "3.9.12"
  }
 },
 "nbformat": 4,
 "nbformat_minor": 1
}
