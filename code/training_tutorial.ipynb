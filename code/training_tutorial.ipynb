{
 "cells": [
  {
   "cell_type": "markdown",
   "metadata": {},
   "source": [
    "# Training Tutorial"
   ]
  },
  {
   "cell_type": "markdown",
   "metadata": {},
   "source": [
    "This notebook goes through parts 1-3 in the preprocessing, training, and evaluation of the images. For each part, there is a detailed notebook in their respective directories. "
   ]
  },
  {
   "cell_type": "code",
   "execution_count": null,
   "metadata": {},
   "outputs": [],
   "source": [
    "import sys\n",
    "sys.path.insert(0,'1_preprocessing')\n",
    "sys.path.insert(0,'2_trainer')\n",
    "sys.path.insert(0,'3_evaluate')\n",
    "from make_data import *\n",
    "from input_data import *\n",
    "from models import *\n",
    "from training_utilities import *\n",
    "from evaluate import *\n",
    "from os import makedirs"
   ]
  },
  {
   "cell_type": "markdown",
   "metadata": {},
   "source": [
    "## Part 1: Preprocessing"
   ]
  },
  {
   "cell_type": "code",
   "execution_count": null,
   "metadata": {},
   "outputs": [],
   "source": [
    "input_dir = \"../data/WSeTe/simulated/\"\n",
    "data_dirs = [str(i) for i in range(2)]\n",
    "label_list = [\"Se\"]\n",
    "parsed_dir_name='parsed_label_Se'\n",
    "ftype = '.tiff'"
   ]
  },
  {
   "cell_type": "code",
   "execution_count": null,
   "metadata": {},
   "outputs": [],
   "source": [
    "l_shape = (256,256)\n",
    "stride = (128,128)\n",
    "one_pickle=False\n",
    "tr_bs = 200\n",
    "ts_bs = 20\n",
    "ones_percent = .00\n",
    "tol = 0.05\n",
    "show_plots=False"
   ]
  },
  {
   "cell_type": "code",
   "execution_count": null,
   "metadata": {},
   "outputs": [],
   "source": [
    "create_augments(input_dir, data_dirs, ftype)"
   ]
  },
  {
   "cell_type": "code",
   "execution_count": null,
   "metadata": {},
   "outputs": [],
   "source": [
    "make_data(input_dir, label_list, data_dirs, l_shape, stride, ftype,\\\n",
    "        parsed_dir_name=parsed_dir_name, tr_bs=tr_bs, ts_bs=ts_bs, ones_percent=ones_percent, \\\n",
    "        tol=tol, show_plots=show_plots, one_save=one_pickle)"
   ]
  },
  {
   "cell_type": "code",
   "execution_count": null,
   "metadata": {},
   "outputs": [],
   "source": [
    "parsed_fn = input_dir + parsed_dir_name + \"/train/train_00000.p\"\n",
    "check_data(parsed_fn, l_shape=l_shape) "
   ]
  },
  {
   "cell_type": "markdown",
   "metadata": {},
   "source": [
    "## Part 2: Training"
   ]
  },
  {
   "cell_type": "code",
   "execution_count": null,
   "metadata": {},
   "outputs": [],
   "source": [
    "parent_dir = '../'\n",
    "data_dir   = parent_dir + 'data/WSeTe/simulated/parsed_label_Se/'\n",
    "sess_name  = 'Se'\n",
    "N          = 256\n",
    "k_fac      = 16\n",
    "nb_classes = 2"
   ]
  },
  {
   "cell_type": "code",
   "execution_count": null,
   "metadata": {},
   "outputs": [],
   "source": [
    "sess_dir = parent_dir + \"results/\" + sess_name + \"/\"\n",
    "makedirs(sess_dir, exist_ok=True)\n",
    "\n",
    "model_weights_fn = sess_dir + \"weights.h5\"\n",
    "model_fn         = sess_dir + \"model.json\"\n",
    "diagnostics_fn   = sess_dir + \"diagnostics.dat\""
   ]
  },
  {
   "cell_type": "code",
   "execution_count": null,
   "metadata": {},
   "outputs": [],
   "source": [
    "model = construct_model(N, k_fac, nb_classes, sess_dir, model_fn, model_weights_fn)\n",
    "step = setup_diagnostics(diagnostics_fn)"
   ]
  },
  {
   "cell_type": "code",
   "execution_count": null,
   "metadata": {},
   "outputs": [],
   "source": [
    "train(step, data_dir, N, nb_classes, model, diagnostics_fn, model_weights_fn)"
   ]
  },
  {
   "cell_type": "markdown",
   "metadata": {},
   "source": [
    "## Part 3: Evaluation "
   ]
  },
  {
   "cell_type": "code",
   "execution_count": null,
   "metadata": {},
   "outputs": [],
   "source": [
    "results_dir = sess_dir\n",
    "data_dir = parent_dir + \"data/WSeTe/simulated/3/\"\n",
    "\n",
    "\n",
    "model_fn = results_dir + \"model.json\"                                              \n",
    "model_weights_fn = results_dir + \"weights.h5\"\n",
    "input_file =  data_dir + \"input.tiff\"\n",
    "l_shape = (256, 256)\n",
    "stride  = (64, 64)\n",
    "avg = 0\n",
    "plot=True\n",
    "save_data=False\n",
    "save_dir = \"./\"                                                         \n",
    "prefix = \"Se\""
   ]
  },
  {
   "cell_type": "code",
   "execution_count": null,
   "metadata": {},
   "outputs": [],
   "source": [
    "%matplotlib notebook\n",
    "prediction = evaluate(model_fn, model_weights_fn, input_file, l_shape, stride,\n",
    "                      avg=avg, plot=plot, save_data=save_data, save_dir=save_dir, prefix=prefix)"
   ]
  },
  {
   "cell_type": "code",
   "execution_count": null,
   "metadata": {},
   "outputs": [],
   "source": [
    "label_file_list = [data_dir + \"label_{}.tiff\".format(\"Se\")]\n",
    "tol=.5\n",
    "nconvs = 0\n",
    "r = 3\n",
    "TN = 0\n",
    "plot=True\n",
    "save_data=False\n",
    "save_dir = \"./\"                                                         \n",
    "prefix = \"Se\"\n",
    "verbose = True"
   ]
  },
  {
   "cell_type": "code",
   "execution_count": null,
   "metadata": {},
   "outputs": [],
   "source": [
    "%matplotlib notebook\n",
    "TP, FP, FN, TN, recall, precision, F1, bal_acc = calc_accuracy(prediction, label_file_list, tol=tol, \n",
    "                                                               nconvs=nconvs, r=r, TN=TN, plot=plot, \n",
    "                                                               save_data=save_data, save_dir=save_dir, \n",
    "                                                               prefix=prefix, verbose=verbose)"
   ]
  }
 ],
 "metadata": {
  "kernelspec": {
   "display_name": "Python 3",
   "language": "python",
   "name": "python3"
  },
  "language_info": {
   "codemirror_mode": {
    "name": "ipython",
    "version": 3
   },
   "file_extension": ".py",
   "mimetype": "text/x-python",
   "name": "python",
   "nbconvert_exporter": "python",
   "pygments_lexer": "ipython3",
   "version": "3.8.2"
  }
 },
 "nbformat": 4,
 "nbformat_minor": 2
}
