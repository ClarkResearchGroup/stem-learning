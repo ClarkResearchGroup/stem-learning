{
 "cells": [
  {
   "cell_type": "code",
   "execution_count": null,
   "metadata": {
    "id": "JGF-Inxg0EnO"
   },
   "outputs": [],
   "source": [
    "from google.colab import drive\n",
    "drive.mount('/content/drive')\n",
    "%cd'/content/drive/My Drive/stem-learning/code/1_preprocessing/'"
   ]
  },
  {
   "cell_type": "code",
   "execution_count": null,
   "metadata": {
    "id": "fJyI9_7BZVyY"
   },
   "outputs": [],
   "source": [
    "%cd  G:\\My Drive\\stem-learning\\code\\1_preprocessing"
   ]
  },
  {
   "cell_type": "code",
   "execution_count": 3,
   "metadata": {
    "id": "J0zwHnylzOtx"
   },
   "outputs": [],
   "source": [
    "from make_data import *\n",
    "input_dir = \"../../WSe_50_sim/\"\n",
    "train_data_dirs = [\"image{}\".format(i) for i in range(50) if i%5 != 0]\n",
    "test_data_dirs  = [\"image{}\".format(i) for i in range(50) if i%5 == 0]\n",
    "label_list = [\"1Doped\", \"1vacancy\", \"2Doped\", \"2vacancy\", \"metal_Doped\", \"metal_vacancy\"]\n",
    "#label_list = [\"SV\"]\n",
    "parsed_dir_name='parsed_label_{}'.format(label_list[0])\n",
    "ftype = '.tiff'\n",
    "l_shape = (256,256)\n",
    "stride = (64,64)\n",
    "one_pickle=False\n",
    "tr_bs = 1000\n",
    "ts_bs = 100\n",
    "\n",
    "ones_percent = .00\n",
    "tol = 0.5\n",
    "show_plots=False\n"
   ]
  },
  {
   "cell_type": "code",
   "execution_count": 4,
   "metadata": {
    "id": "1V20GoEC3zCF"
   },
   "outputs": [
    {
     "name": "stdout",
     "output_type": "stream",
     "text": [
      "creating augments in image1\n",
      "inverting\n",
      "rotating\n",
      "magnifying\n",
      "creating augments in image2\n",
      "inverting\n",
      "rotating\n",
      "magnifying\n",
      "creating augments in image3\n",
      "inverting\n",
      "rotating\n",
      "magnifying\n",
      "creating augments in image4\n",
      "inverting\n",
      "rotating\n",
      "magnifying\n",
      "creating augments in image6\n",
      "inverting\n",
      "rotating\n",
      "magnifying\n",
      "creating augments in image7\n",
      "inverting\n",
      "rotating\n",
      "magnifying\n",
      "creating augments in image8\n",
      "inverting\n",
      "rotating\n",
      "magnifying\n",
      "creating augments in image9\n",
      "inverting\n",
      "rotating\n",
      "magnifying\n",
      "creating augments in image11\n",
      "inverting\n",
      "rotating\n",
      "magnifying\n",
      "creating augments in image12\n",
      "inverting\n",
      "rotating\n",
      "magnifying\n",
      "creating augments in image13\n",
      "inverting\n",
      "rotating\n",
      "magnifying\n",
      "creating augments in image14\n",
      "inverting\n",
      "rotating\n",
      "magnifying\n",
      "creating augments in image16\n",
      "inverting\n",
      "rotating\n",
      "magnifying\n",
      "creating augments in image17\n",
      "inverting\n",
      "rotating\n",
      "magnifying\n",
      "creating augments in image18\n",
      "inverting\n",
      "rotating\n",
      "magnifying\n",
      "creating augments in image19\n",
      "inverting\n",
      "rotating\n",
      "magnifying\n",
      "creating augments in image21\n",
      "inverting\n",
      "rotating\n",
      "magnifying\n",
      "creating augments in image22\n",
      "inverting\n",
      "rotating\n",
      "magnifying\n",
      "creating augments in image23\n",
      "inverting\n",
      "rotating\n",
      "magnifying\n",
      "creating augments in image24\n",
      "inverting\n",
      "rotating\n",
      "magnifying\n",
      "creating augments in image26\n",
      "inverting\n",
      "rotating\n",
      "magnifying\n",
      "creating augments in image27\n",
      "inverting\n",
      "rotating\n",
      "magnifying\n",
      "creating augments in image28\n",
      "inverting\n",
      "rotating\n",
      "magnifying\n",
      "creating augments in image29\n",
      "inverting\n",
      "rotating\n",
      "magnifying\n",
      "creating augments in image31\n",
      "inverting\n",
      "rotating\n",
      "magnifying\n",
      "creating augments in image32\n",
      "inverting\n",
      "rotating\n",
      "magnifying\n",
      "creating augments in image33\n",
      "inverting\n",
      "rotating\n",
      "magnifying\n",
      "creating augments in image34\n",
      "inverting\n",
      "rotating\n",
      "magnifying\n",
      "creating augments in image36\n",
      "inverting\n",
      "rotating\n",
      "magnifying\n",
      "creating augments in image37\n",
      "inverting\n",
      "rotating\n",
      "magnifying\n",
      "creating augments in image38\n",
      "inverting\n",
      "rotating\n",
      "magnifying\n",
      "creating augments in image39\n",
      "inverting\n",
      "rotating\n",
      "magnifying\n",
      "creating augments in image41\n",
      "inverting\n",
      "rotating\n",
      "magnifying\n",
      "creating augments in image42\n",
      "inverting\n",
      "rotating\n",
      "magnifying\n",
      "creating augments in image43\n",
      "inverting\n",
      "rotating\n",
      "magnifying\n",
      "creating augments in image44\n",
      "inverting\n",
      "rotating\n",
      "magnifying\n",
      "creating augments in image46\n",
      "inverting\n",
      "rotating\n",
      "magnifying\n",
      "creating augments in image47\n",
      "inverting\n",
      "rotating\n",
      "magnifying\n",
      "creating augments in image48\n",
      "inverting\n",
      "rotating\n",
      "magnifying\n",
      "creating augments in image49\n",
      "inverting\n",
      "rotating\n",
      "magnifying\n"
     ]
    }
   ],
   "source": [
    "create_augments(input_dir, train_data_dirs, ftype)"
   ]
  },
  {
   "cell_type": "code",
   "execution_count": 6,
   "metadata": {
    "id": "Vy-4ODyhzOuq",
    "scrolled": false
   },
   "outputs": [
    {
     "name": "stdout",
     "output_type": "stream",
     "text": [
      "parsing directory  image0\n",
      "parsing directory  image5\n",
      "parsing directory  image10\n",
      "parsing directory  image15\n",
      "parsing directory  image20\n",
      "parsing directory  image25\n",
      "parsing directory  image30\n",
      "parsing directory  image35\n",
      "parsing directory  image40\n",
      "parsing directory  image45\n",
      "saving file 0 with 1690 examples\n",
      "parsing directory  image0\n",
      "parsing directory  image5\n",
      "parsing directory  image10\n",
      "parsing directory  image15\n",
      "parsing directory  image20\n",
      "parsing directory  image25\n",
      "parsing directory  image30\n",
      "parsing directory  image35\n",
      "parsing directory  image40\n",
      "parsing directory  image45\n",
      "saving file 0 with 1690 examples\n",
      "parsing directory  image0\n",
      "parsing directory  image5\n",
      "parsing directory  image10\n",
      "parsing directory  image15\n",
      "parsing directory  image20\n",
      "parsing directory  image25\n",
      "parsing directory  image30\n",
      "parsing directory  image35\n",
      "parsing directory  image40\n",
      "parsing directory  image45\n",
      "saving file 0 with 1690 examples\n",
      "parsing directory  image0\n",
      "parsing directory  image5\n",
      "parsing directory  image10\n",
      "parsing directory  image15\n",
      "parsing directory  image20\n",
      "parsing directory  image25\n",
      "parsing directory  image30\n",
      "parsing directory  image35\n",
      "parsing directory  image40\n",
      "parsing directory  image45\n",
      "saving file 0 with 1690 examples\n",
      "parsing directory  image0\n",
      "parsing directory  image5\n",
      "parsing directory  image10\n",
      "parsing directory  image15\n",
      "parsing directory  image20\n",
      "parsing directory  image25\n",
      "parsing directory  image30\n",
      "parsing directory  image35\n",
      "parsing directory  image40\n",
      "parsing directory  image45\n",
      "saving file 0 with 1690 examples\n",
      "parsing directory  image0\n",
      "parsing directory  image5\n",
      "parsing directory  image10\n",
      "parsing directory  image15\n",
      "parsing directory  image20\n",
      "parsing directory  image25\n",
      "parsing directory  image30\n",
      "parsing directory  image35\n",
      "parsing directory  image40\n",
      "parsing directory  image45\n",
      "saving file 0 with 1690 examples\n"
     ]
    }
   ],
   "source": [
    "for lbl in label_list:\n",
    "    ll = [lbl]\n",
    "    parsed_dir_name='parsed_label_{}'.format(lbl)\n",
    "\n",
    "    #make_data(input_dir, train_data_dirs, ll, l_shape, stride, ftype, \\\n",
    "    #        parsed_dir_name=parsed_dir_name, prefix=\"train\", AUG=True, tol=tol, \\\n",
    "    #        ones_pcent=ones_percent, one_save=one_pickle, fsize=tr_bs)\n",
    "    make_data(input_dir, test_data_dirs, ll, l_shape, stride, ftype, \\\n",
    "            parsed_dir_name=parsed_dir_name, prefix=\"test\", AUG=False, tol=tol, \\\n",
    "            ones_pcent=ones_percent, one_save=True, fsize=ts_bs)"
   ]
  },
  {
   "cell_type": "code",
   "execution_count": null,
   "metadata": {
    "id": "__wiolkRzOux"
   },
   "outputs": [],
   "source": [
    "import numpy as np\n",
    "from make_data import *\n",
    "parsed_fn = input_dir + parsed_dir_name + \"/train_00000.p\"\n",
    "check_data(parsed_fn, l_shape=l_shape) "
   ]
  },
  {
   "cell_type": "code",
   "execution_count": null,
   "metadata": {
    "id": "KBSf_sC5e5WX"
   },
   "outputs": [],
   "source": [
    "input_file = input_dir+'image0/input.tiff'\n",
    "process_image(input_file, standardize=True)"
   ]
  },
  {
   "cell_type": "code",
   "execution_count": null,
   "metadata": {
    "id": "nHXgWtlPNOL7"
   },
   "outputs": [],
   "source": [
    "input_img = imread(input_file).astype(np.float32)"
   ]
  },
  {
   "cell_type": "code",
   "execution_count": null,
   "metadata": {
    "id": "_sjPY2F2Nsu8"
   },
   "outputs": [],
   "source": [
    "input_img"
   ]
  },
  {
   "cell_type": "code",
   "execution_count": null,
   "metadata": {
    "id": "zYkmL-d-NyYP"
   },
   "outputs": [],
   "source": [
    "input_img.shape"
   ]
  },
  {
   "cell_type": "code",
   "execution_count": null,
   "metadata": {
    "id": "Z7hzM8CjN57P"
   },
   "outputs": [],
   "source": [
    "(input_img - np.mean(input_img))/np.std(input_img)"
   ]
  },
  {
   "cell_type": "code",
   "execution_count": null,
   "metadata": {
    "id": "yoD9sCaGQiFv"
   },
   "outputs": [],
   "source": []
  }
 ],
 "metadata": {
  "colab": {
   "collapsed_sections": [],
   "machine_shape": "hm",
   "name": "1_preprocess_express.ipynb",
   "private_outputs": true,
   "provenance": []
  },
  "kernelspec": {
   "display_name": "Python 3",
   "language": "python",
   "name": "python3"
  },
  "language_info": {
   "codemirror_mode": {
    "name": "ipython",
    "version": 3
   },
   "file_extension": ".py",
   "mimetype": "text/x-python",
   "name": "python",
   "nbconvert_exporter": "python",
   "pygments_lexer": "ipython3",
   "version": "3.8.9"
  }
 },
 "nbformat": 4,
 "nbformat_minor": 1
}
