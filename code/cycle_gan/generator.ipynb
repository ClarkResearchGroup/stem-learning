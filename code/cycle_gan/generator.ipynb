{
 "cells": [
  {
   "cell_type": "code",
   "execution_count": 1,
   "metadata": {},
   "outputs": [
    {
     "name": "stdout",
     "output_type": "stream",
     "text": [
      "processing data\n",
      "loading model\n",
      "stride: 256\n",
      "predicting data\n",
      "stitching data\n",
      "saving data\n"
     ]
    },
    {
     "ename": "TypeError",
     "evalue": "must be real number, not tuple",
     "output_type": "error",
     "traceback": [
      "\u001b[0;31m---------------------------------------------------------------------------\u001b[0m",
      "\u001b[0;31mTypeError\u001b[0m                                 Traceback (most recent call last)",
      "Cell \u001b[0;32mIn[1], line 45\u001b[0m\n\u001b[1;32m     41\u001b[0m     exit()\n\u001b[1;32m     44\u001b[0m GANNED_dir \u001b[39m=\u001b[39m \u001b[39m\"\u001b[39m\u001b[39m/mnt/d/GANNED_SIM_\u001b[39m\u001b[39m{}\u001b[39;00m\u001b[39m/\u001b[39m\u001b[39m\"\u001b[39m\u001b[39m.\u001b[39mformat(identifier)\n\u001b[0;32m---> 45\u001b[0m GAN_image_folder(model, data_dir, GANNED_dir, \u001b[39m256\u001b[39;49m, \u001b[39m256\u001b[39;49m, \u001b[39mFalse\u001b[39;49;00m, watermark\u001b[39m=\u001b[39;49m\u001b[39mTrue\u001b[39;49;00m)\n",
      "File \u001b[0;32m/mnt/d/stem-learning/code/cycle_gan/generate_image.py:122\u001b[0m, in \u001b[0;36mGAN_image_folder\u001b[0;34m(model, input_dir, save_dir, fine_size, stride, avg, watermark)\u001b[0m\n\u001b[1;32m    120\u001b[0m os\u001b[39m.\u001b[39mmakedirs(save_dir, exist_ok\u001b[39m=\u001b[39m\u001b[39mTrue\u001b[39;00m)\n\u001b[1;32m    121\u001b[0m \u001b[39mfor\u001b[39;00m input_file \u001b[39min\u001b[39;00m os\u001b[39m.\u001b[39mlistdir(input_dir):\n\u001b[0;32m--> 122\u001b[0m     generate_image(model, os\u001b[39m.\u001b[39;49mpath\u001b[39m.\u001b[39;49mjoin(input_dir, input_file), fine_size, stride, \\\n\u001b[1;32m    123\u001b[0m         avg, plot\u001b[39m=\u001b[39;49m\u001b[39mFalse\u001b[39;49;00m, save_data\u001b[39m=\u001b[39;49m\u001b[39mTrue\u001b[39;49;00m, save_dir\u001b[39m=\u001b[39;49msave_dir,fname\u001b[39m=\u001b[39;49minput_file, watermark\u001b[39m=\u001b[39;49mwatermark)\n",
      "File \u001b[0;32m/mnt/d/stem-learning/code/cycle_gan/generate_image.py:111\u001b[0m, in \u001b[0;36mgenerate_image\u001b[0;34m(model, input_file, fine_size, stride, avg, plot, save_data, save_dir, fname, watermark)\u001b[0m\n\u001b[1;32m    108\u001b[0m width, height \u001b[39m=\u001b[39m pil_image\u001b[39m.\u001b[39msize\n\u001b[1;32m    110\u001b[0m \u001b[39m# Draw the watermark on the bottom right corner of the image\u001b[39;00m\n\u001b[0;32m--> 111\u001b[0m draw\u001b[39m.\u001b[39;49mtext((width \u001b[39m-\u001b[39;49m \u001b[39m250\u001b[39;49m, height \u001b[39m-\u001b[39;49m \u001b[39m50\u001b[39;49m), watermark, fill\u001b[39m=\u001b[39;49m(\u001b[39m255\u001b[39;49m, \u001b[39m255\u001b[39;49m, \u001b[39m255\u001b[39;49m))\n\u001b[1;32m    113\u001b[0m \u001b[39m# Save the image with the watermark\u001b[39;00m\n\u001b[1;32m    114\u001b[0m pil_image\u001b[39m.\u001b[39msave(save_dir \u001b[39m+\u001b[39m fname)\n",
      "File \u001b[0;32m~/.local/lib/python3.10/site-packages/PIL/ImageDraw.py:506\u001b[0m, in \u001b[0;36mImageDraw.text\u001b[0;34m(self, xy, text, fill, font, anchor, spacing, align, direction, features, language, stroke_width, stroke_fill, embedded_color, *args, **kwargs)\u001b[0m\n\u001b[1;32m    503\u001b[0m     \u001b[39melse\u001b[39;00m:\n\u001b[1;32m    504\u001b[0m         \u001b[39mself\u001b[39m\u001b[39m.\u001b[39mdraw\u001b[39m.\u001b[39mdraw_bitmap(coord, mask, ink)\n\u001b[0;32m--> 506\u001b[0m ink \u001b[39m=\u001b[39m getink(fill)\n\u001b[1;32m    507\u001b[0m \u001b[39mif\u001b[39;00m ink \u001b[39mis\u001b[39;00m \u001b[39mnot\u001b[39;00m \u001b[39mNone\u001b[39;00m:\n\u001b[1;32m    508\u001b[0m     stroke_ink \u001b[39m=\u001b[39m \u001b[39mNone\u001b[39;00m\n",
      "File \u001b[0;32m~/.local/lib/python3.10/site-packages/PIL/ImageDraw.py:448\u001b[0m, in \u001b[0;36mImageDraw.text.<locals>.getink\u001b[0;34m(fill)\u001b[0m\n\u001b[1;32m    447\u001b[0m \u001b[39mdef\u001b[39;00m \u001b[39mgetink\u001b[39m(fill):\n\u001b[0;32m--> 448\u001b[0m     ink, fill \u001b[39m=\u001b[39m \u001b[39mself\u001b[39;49m\u001b[39m.\u001b[39;49m_getink(fill)\n\u001b[1;32m    449\u001b[0m     \u001b[39mif\u001b[39;00m ink \u001b[39mis\u001b[39;00m \u001b[39mNone\u001b[39;00m:\n\u001b[1;32m    450\u001b[0m         \u001b[39mreturn\u001b[39;00m fill\n",
      "File \u001b[0;32m~/.local/lib/python3.10/site-packages/PIL/ImageDraw.py:130\u001b[0m, in \u001b[0;36mImageDraw._getink\u001b[0;34m(self, ink, fill)\u001b[0m\n\u001b[1;32m    128\u001b[0m     \u001b[39mif\u001b[39;00m \u001b[39mself\u001b[39m\u001b[39m.\u001b[39mpalette \u001b[39mand\u001b[39;00m \u001b[39mnot\u001b[39;00m \u001b[39misinstance\u001b[39m(ink, numbers\u001b[39m.\u001b[39mNumber):\n\u001b[1;32m    129\u001b[0m         ink \u001b[39m=\u001b[39m \u001b[39mself\u001b[39m\u001b[39m.\u001b[39mpalette\u001b[39m.\u001b[39mgetcolor(ink, \u001b[39mself\u001b[39m\u001b[39m.\u001b[39m_image)\n\u001b[0;32m--> 130\u001b[0m     ink \u001b[39m=\u001b[39m \u001b[39mself\u001b[39;49m\u001b[39m.\u001b[39;49mdraw\u001b[39m.\u001b[39;49mdraw_ink(ink)\n\u001b[1;32m    131\u001b[0m \u001b[39mif\u001b[39;00m fill \u001b[39mis\u001b[39;00m \u001b[39mnot\u001b[39;00m \u001b[39mNone\u001b[39;00m:\n\u001b[1;32m    132\u001b[0m     \u001b[39mif\u001b[39;00m \u001b[39misinstance\u001b[39m(fill, \u001b[39mstr\u001b[39m):\n",
      "\u001b[0;31mTypeError\u001b[0m: must be real number, not tuple"
     ]
    }
   ],
   "source": [
    "import sys\n",
    "import os\n",
    "os.environ['TF_CPP_MIN_LOG_LEVEL'] = '3' \n",
    "import tensorflow as tf\n",
    "from models import unet_generator\n",
    "from generate_image import generate_image, GAN_image_folder\n",
    "import os, shutil\n",
    "from sys import argv\n",
    "from make_dataset import parse_and_save_image\n",
    "\n",
    "idfn = \"212\"\n",
    "\n",
    "parent_dir = \"/mnt/d/stem-learning/\"\n",
    "#identifier = \"20220705_MODEL_unet_ident_gen_fft_10_SIM_pristine_gaussian_0.1_EXP_{}\".format(idfn)\n",
    "identifier = \"20230111_MODEL_unet_ident_gen_fft_bincross_10_SIM_pristine_gaussian_0.1_EXP_Gr_3\"\n",
    "model_type = \"exp\"\n",
    "\n",
    "exp_dir = \"{}data/WSe/data_for_gan/experiment/107_normalized_256_slices/\".format(parent_dir)\n",
    "sim_dir = \"{}data/WSe/data_for_gan/simulation/sim_pristine_gauss_0.1_256_slices/\".format(parent_dir)\n",
    "sim_dir = \"/mnt/d/archives/20221209 Updated simulted Gr_STO images/Gr_3_gauss_0.1_256_slices/\"\n",
    "data_dir = sim_dir if model_type==\"exp\" else exp_dir\n",
    "\n",
    "num_channels = 1\n",
    "generator_exp = unet_generator(num_channels, 1, \"instancenorm\")\n",
    "generator_sim = unet_generator(1, num_channels, \"instancenorm\")\n",
    "\n",
    "def cycle(x):\n",
    "    return generator_sim(generator_exp(x))\n",
    "\n",
    "model = generator_exp if model_type == \"exp\" else generator_sim if model_type == \"sim\" else cycle\n",
    "\n",
    "try:\n",
    "    checkpoint_path = \"{}cycle_gan_results/checkpoints/checkpoint_{}\".format(parent_dir, identifier)\n",
    "    ckpt = tf.train.Checkpoint(generator_exp=generator_exp, generator_sim=generator_sim)\n",
    "    ckpt_manager = tf.train.CheckpointManager(ckpt, checkpoint_path, max_to_keep=3)\n",
    "    if ckpt_manager.latest_checkpoint:\n",
    "        cpath = ckpt_manager.latest_checkpoint\n",
    "        ckpt.restore(cpath)\n",
    "except:\n",
    "    print(\"loading checkpoint failed\")\n",
    "    exit()\n",
    "\n",
    "\n",
    "GANNED_dir = \"/mnt/d/GANNED_SIM_{}/\".format(identifier)\n",
    "GAN_image_folder(model, data_dir, GANNED_dir, 256, 256, False, watermark=True)"
   ]
  },
  {
   "cell_type": "code",
   "execution_count": null,
   "metadata": {},
   "outputs": [
    {
     "name": "stdout",
     "output_type": "stream",
     "text": [
      "Adding gaussian layer:  0.1\n"
     ]
    },
    {
     "ename": "FileNotFoundError",
     "evalue": "[Errno 2] No such file or directory: '/mnt/d/stem-learning/code_local/cycle_gan/D:/20221209 Updated simulted Gr_STO images/04-3_Simu_STO_80kV_source_0.0_no_aberr_no_noise_1K_px_size_14.23pm_crop.tif'",
     "output_type": "error",
     "traceback": [
      "\u001b[0;31m---------------------------------------------------------------------------\u001b[0m",
      "\u001b[0;31mFileNotFoundError\u001b[0m                         Traceback (most recent call last)",
      "Cell \u001b[0;32mIn[2], line 46\u001b[0m\n\u001b[1;32m     44\u001b[0m image_dir \u001b[39m=\u001b[39m \u001b[39m\"\u001b[39m\u001b[39mD:/20221209 Updated simulted Gr_STO images/\u001b[39m\u001b[39m\"\u001b[39m\n\u001b[1;32m     45\u001b[0m save_dir \u001b[39m=\u001b[39m \u001b[39m\"\u001b[39m\u001b[39m{}\u001b[39;00m\u001b[39m{}\u001b[39;00m\u001b[39m_0.1_256_slices/\u001b[39m\u001b[39m\"\u001b[39m\u001b[39m.\u001b[39mformat(image_dir, idfn)\n\u001b[0;32m---> 46\u001b[0m parse_and_save_image(fn, image_dir, [\u001b[39m0\u001b[39;49m], [\u001b[39m255\u001b[39;49m], save_dir\u001b[39m=\u001b[39;49msave_dir, fine_size\u001b[39m=\u001b[39;49m\u001b[39m256\u001b[39;49m, stride\u001b[39m=\u001b[39;49m\u001b[39m256\u001b[39;49m, num_channels\u001b[39m=\u001b[39;49m\u001b[39m1\u001b[39;49m, gaussian\u001b[39m=\u001b[39;49m\u001b[39m0.1\u001b[39;49m)\n\u001b[1;32m     48\u001b[0m GANNED_dir \u001b[39m=\u001b[39m \u001b[39m\"\u001b[39m\u001b[39m{}\u001b[39;00m\u001b[39m{}\u001b[39;00m\u001b[39m_0.1_noised_GANNED/\u001b[39m\u001b[39m\"\u001b[39m\u001b[39m.\u001b[39mformat(image_dir, idfn)\n\u001b[1;32m     49\u001b[0m GAN_image_folder(model, save_dir, GANNED_dir, \u001b[39m256\u001b[39m, \u001b[39m256\u001b[39m, \u001b[39mFalse\u001b[39;00m)\n",
      "File \u001b[0;32m/mnt/d/stem-learning/code_local/cycle_gan/make_dataset.py:61\u001b[0m, in \u001b[0;36mparse_and_save_image\u001b[0;34m(fn, image_dir, min_v, max_v, save_dir, fine_size, stride, num_channels, gaussian)\u001b[0m\n\u001b[1;32m     57\u001b[0m \u001b[39m\"\"\"\u001b[39;00m\n\u001b[1;32m     58\u001b[0m \u001b[39mtakes a large image and creates subimages of it and stores it in a directory\u001b[39;00m\n\u001b[1;32m     59\u001b[0m \u001b[39m\"\"\"\u001b[39;00m\n\u001b[1;32m     60\u001b[0m input_file \u001b[39m=\u001b[39m image_dir \u001b[39m+\u001b[39m fn\n\u001b[0;32m---> 61\u001b[0m data \u001b[39m=\u001b[39m process_image(input_file)\n\u001b[1;32m     62\u001b[0m \u001b[39mfor\u001b[39;00m i \u001b[39min\u001b[39;00m \u001b[39mrange\u001b[39m(num_channels):\n\u001b[1;32m     63\u001b[0m     data[:,:,i] \u001b[39m=\u001b[39m \u001b[39m2\u001b[39m\u001b[39m*\u001b[39m( (data[:,:,i] \u001b[39m-\u001b[39m min_v[i])\u001b[39m/\u001b[39m(max_v[i] \u001b[39m-\u001b[39m min_v[i]) \u001b[39m-\u001b[39m \u001b[39m.5\u001b[39m)\n",
      "File \u001b[0;32m/mnt/d/stem-learning/code_local/cycle_gan/make_dataset.py:11\u001b[0m, in \u001b[0;36mprocess_image\u001b[0;34m(input_file)\u001b[0m\n\u001b[1;32m      5\u001b[0m \u001b[39mdef\u001b[39;00m \u001b[39mprocess_image\u001b[39m(input_file):\n\u001b[1;32m      6\u001b[0m     \u001b[39m\"\"\"\u001b[39;00m\n\u001b[1;32m      7\u001b[0m \u001b[39m       Takes in an image file and outputs a grayscale image. This grayscale is\u001b[39;00m\n\u001b[1;32m      8\u001b[0m \u001b[39m       computed by flattening the channels potentially standardizing the distribution\u001b[39;00m\n\u001b[1;32m      9\u001b[0m \u001b[39m       of pixel values\u001b[39;00m\n\u001b[1;32m     10\u001b[0m \u001b[39m    \"\"\"\u001b[39;00m\n\u001b[0;32m---> 11\u001b[0m     input_img \u001b[39m=\u001b[39m imread(input_file)\u001b[39m.\u001b[39mastype(np\u001b[39m.\u001b[39mfloat32)\n\u001b[1;32m     12\u001b[0m     \u001b[39mif\u001b[39;00m \u001b[39mlen\u001b[39m(input_img\u001b[39m.\u001b[39mshape)\u001b[39m==\u001b[39m\u001b[39m2\u001b[39m:\n\u001b[1;32m     13\u001b[0m         lx, ly \u001b[39m=\u001b[39m input_img\u001b[39m.\u001b[39mshape\n",
      "File \u001b[0;32m~/.local/lib/python3.10/site-packages/tifffile/tifffile.py:1008\u001b[0m, in \u001b[0;36mimread\u001b[0;34m(files, aszarr, key, series, level, squeeze, maxworkers, mode, name, offset, size, pattern, axesorder, categories, imread, sort, container, axestiled, ioworkers, chunkmode, fillvalue, zattrs, multiscales, omexml, out, _multifile, _useframes, **kwargs)\u001b[0m\n\u001b[1;32m   1003\u001b[0m     files \u001b[39m=\u001b[39m files[\u001b[39m0\u001b[39m]\n\u001b[1;32m   1005\u001b[0m \u001b[39mif\u001b[39;00m \u001b[39misinstance\u001b[39m(files, \u001b[39mstr\u001b[39m) \u001b[39mor\u001b[39;00m \u001b[39mnot\u001b[39;00m \u001b[39misinstance\u001b[39m(\n\u001b[1;32m   1006\u001b[0m     files, collections\u001b[39m.\u001b[39mabc\u001b[39m.\u001b[39mSequence\n\u001b[1;32m   1007\u001b[0m ):\n\u001b[0;32m-> 1008\u001b[0m     \u001b[39mwith\u001b[39;00m TiffFile(\n\u001b[1;32m   1009\u001b[0m         files,\n\u001b[1;32m   1010\u001b[0m         mode\u001b[39m=\u001b[39;49mmode,\n\u001b[1;32m   1011\u001b[0m         name\u001b[39m=\u001b[39;49mname,\n\u001b[1;32m   1012\u001b[0m         offset\u001b[39m=\u001b[39;49moffset,\n\u001b[1;32m   1013\u001b[0m         size\u001b[39m=\u001b[39;49msize,\n\u001b[1;32m   1014\u001b[0m         omexml\u001b[39m=\u001b[39;49momexml,\n\u001b[1;32m   1015\u001b[0m         _multifile\u001b[39m=\u001b[39;49m_multifile,\n\u001b[1;32m   1016\u001b[0m         _useframes\u001b[39m=\u001b[39;49m_useframes,\n\u001b[1;32m   1017\u001b[0m         \u001b[39m*\u001b[39;49m\u001b[39m*\u001b[39;49mis_flags,\n\u001b[1;32m   1018\u001b[0m     ) \u001b[39mas\u001b[39;00m tif:\n\u001b[1;32m   1019\u001b[0m         \u001b[39mif\u001b[39;00m aszarr:\n\u001b[1;32m   1020\u001b[0m             \u001b[39massert\u001b[39;00m key \u001b[39mis\u001b[39;00m \u001b[39mNone\u001b[39;00m \u001b[39mor\u001b[39;00m \u001b[39misinstance\u001b[39m(key, \u001b[39mint\u001b[39m)\n",
      "File \u001b[0;32m~/.local/lib/python3.10/site-packages/tifffile/tifffile.py:3832\u001b[0m, in \u001b[0;36mTiffFile.__init__\u001b[0;34m(self, file, mode, name, offset, size, omexml, _multifile, _useframes, _parent, **is_flags)\u001b[0m\n\u001b[1;32m   3829\u001b[0m \u001b[39mif\u001b[39;00m mode \u001b[39mnot\u001b[39;00m \u001b[39min\u001b[39;00m (\u001b[39mNone\u001b[39;00m, \u001b[39m'\u001b[39m\u001b[39mr\u001b[39m\u001b[39m'\u001b[39m, \u001b[39m'\u001b[39m\u001b[39mr+\u001b[39m\u001b[39m'\u001b[39m, \u001b[39m'\u001b[39m\u001b[39mrb\u001b[39m\u001b[39m'\u001b[39m, \u001b[39m'\u001b[39m\u001b[39mr+b\u001b[39m\u001b[39m'\u001b[39m):\n\u001b[1;32m   3830\u001b[0m     \u001b[39mraise\u001b[39;00m \u001b[39mValueError\u001b[39;00m(\u001b[39mf\u001b[39m\u001b[39m'\u001b[39m\u001b[39minvalid mode \u001b[39m\u001b[39m{\u001b[39;00mmode\u001b[39m!r}\u001b[39;00m\u001b[39m'\u001b[39m)\n\u001b[0;32m-> 3832\u001b[0m fh \u001b[39m=\u001b[39m FileHandle(file, mode\u001b[39m=\u001b[39;49mmode, name\u001b[39m=\u001b[39;49mname, offset\u001b[39m=\u001b[39;49moffset, size\u001b[39m=\u001b[39;49msize)\n\u001b[1;32m   3833\u001b[0m \u001b[39mself\u001b[39m\u001b[39m.\u001b[39m_fh \u001b[39m=\u001b[39m fh\n\u001b[1;32m   3834\u001b[0m \u001b[39mself\u001b[39m\u001b[39m.\u001b[39m_multifile \u001b[39m=\u001b[39m \u001b[39mTrue\u001b[39;00m \u001b[39mif\u001b[39;00m _multifile \u001b[39mis\u001b[39;00m \u001b[39mNone\u001b[39;00m \u001b[39melse\u001b[39;00m \u001b[39mbool\u001b[39m(_multifile)\n",
      "File \u001b[0;32m~/.local/lib/python3.10/site-packages/tifffile/tifffile.py:13088\u001b[0m, in \u001b[0;36mFileHandle.__init__\u001b[0;34m(self, file, mode, name, offset, size)\u001b[0m\n\u001b[1;32m  13086\u001b[0m \u001b[39mself\u001b[39m\u001b[39m.\u001b[39m_close \u001b[39m=\u001b[39m \u001b[39mTrue\u001b[39;00m\n\u001b[1;32m  13087\u001b[0m \u001b[39mself\u001b[39m\u001b[39m.\u001b[39m_lock \u001b[39m=\u001b[39m NullContext()\n\u001b[0;32m> 13088\u001b[0m \u001b[39mself\u001b[39;49m\u001b[39m.\u001b[39;49mopen()\n\u001b[1;32m  13089\u001b[0m \u001b[39massert\u001b[39;00m \u001b[39mself\u001b[39m\u001b[39m.\u001b[39m_fh \u001b[39mis\u001b[39;00m \u001b[39mnot\u001b[39;00m \u001b[39mNone\u001b[39;00m\n",
      "File \u001b[0;32m~/.local/lib/python3.10/site-packages/tifffile/tifffile.py:13103\u001b[0m, in \u001b[0;36mFileHandle.open\u001b[0;34m(self)\u001b[0m\n\u001b[1;32m  13101\u001b[0m \u001b[39mself\u001b[39m\u001b[39m.\u001b[39m_file \u001b[39m=\u001b[39m os\u001b[39m.\u001b[39mpath\u001b[39m.\u001b[39mrealpath(\u001b[39mself\u001b[39m\u001b[39m.\u001b[39m_file)\n\u001b[1;32m  13102\u001b[0m \u001b[39mself\u001b[39m\u001b[39m.\u001b[39m_dir, \u001b[39mself\u001b[39m\u001b[39m.\u001b[39m_name \u001b[39m=\u001b[39m os\u001b[39m.\u001b[39mpath\u001b[39m.\u001b[39msplit(\u001b[39mself\u001b[39m\u001b[39m.\u001b[39m_file)\n\u001b[0;32m> 13103\u001b[0m \u001b[39mself\u001b[39m\u001b[39m.\u001b[39m_fh \u001b[39m=\u001b[39m \u001b[39mopen\u001b[39;49m(\u001b[39mself\u001b[39;49m\u001b[39m.\u001b[39;49m_file, \u001b[39mself\u001b[39;49m\u001b[39m.\u001b[39;49m_mode)  \u001b[39m# type: ignore\u001b[39;00m\n\u001b[1;32m  13104\u001b[0m \u001b[39mself\u001b[39m\u001b[39m.\u001b[39m_close \u001b[39m=\u001b[39m \u001b[39mTrue\u001b[39;00m\n\u001b[1;32m  13105\u001b[0m \u001b[39mif\u001b[39;00m \u001b[39mself\u001b[39m\u001b[39m.\u001b[39m_offset \u001b[39m<\u001b[39m \u001b[39m0\u001b[39m:\n",
      "\u001b[0;31mFileNotFoundError\u001b[0m: [Errno 2] No such file or directory: '/mnt/d/stem-learning/code_local/cycle_gan/D:/20221209 Updated simulted Gr_STO images/04-3_Simu_STO_80kV_source_0.0_no_aberr_no_noise_1K_px_size_14.23pm_crop.tif'"
     ]
    }
   ],
   "source": [
    "import tensorflow as tf\n",
    "from models import unet_generator\n",
    "from generate_image import generate_image, GAN_image_folder\n",
    "import os, shutil\n",
    "from sys import argv\n",
    "from make_dataset import parse_and_save_image\n",
    "\n",
    "idfn = \"STO_3\"\n",
    "\n",
    "parent_dir = \"D:/stem-learning/\"\n",
    "identifier = \"20221213_MODEL_unet_ident_gen_fft_10_SIM_pristine_gaussian_0.1_EXP_{}\".format(idfn)\n",
    "model_type = \"exp\"\n",
    "\n",
    "STO_2_sim  = \"04-2_Simu_STO_80kV_source_1.0_no_aberr_no_noise_1K_px_size_14.23pm_crop.tif\"\n",
    "STO_3_sim  = \"04-3_Simu_STO_80kV_source_0.0_no_aberr_no_noise_1K_px_size_14.23pm_crop.tif\"\n",
    "\n",
    "Gr_2_sim   = \"06-2_Simu_Gr_80kV_source_1.25_no_aberr_no_noise_512_px_size_14.89pm_crop.tif\"\n",
    "Gr_3_sim   = \"06-3_Simu_Gr_80kV_source_0.0_no_aberr_no_noise_512_px_size_14.89pm_crop.tif\"\n",
    "\n",
    "num_channels = 1\n",
    "generator_exp = unet_generator(num_channels, 1, \"instancenorm\")\n",
    "generator_sim = unet_generator(1, num_channels, \"instancenorm\")\n",
    "\n",
    "def cycle(x):\n",
    "    return generator_sim(generator_exp(x))\n",
    "\n",
    "model = generator_exp if model_type == \"exp\" else cycle\n",
    "\n",
    "try:\n",
    "    checkpoint_path = \"{}cycle_gan_results/checkpoints/checkpoint_{}\".format(parent_dir, identifier)\n",
    "    ckpt = tf.train.Checkpoint(generator_exp=generator_exp, generator_sim=generator_sim)\n",
    "    ckpt_manager = tf.train.CheckpointManager(ckpt, checkpoint_path, max_to_keep=3)\n",
    "    if ckpt_manager.latest_checkpoint:\n",
    "        cpath = ckpt_manager.latest_checkpoint\n",
    "        ckpt.restore(cpath)\n",
    "except:\n",
    "    print(\"loading checkpoint failed\")\n",
    "    exit()\n",
    "\n",
    "model = generator_exp\n",
    "\n",
    "fn = globals().get(\"{}_sim\".format(idfn))\n",
    "\n",
    "image_dir = \"D:/20221209 Updated simulted Gr_STO images/\"\n",
    "save_dir = \"{}{}_0.1_256_slices/\".format(image_dir, idfn)\n",
    "parse_and_save_image(fn, image_dir, [0], [255], save_dir=save_dir, fine_size=256, stride=256, num_channels=1, gaussian=0.1)\n",
    "\n",
    "GANNED_dir = \"{}{}_0.1_noised_GANNED/\".format(image_dir, idfn)\n",
    "GAN_image_folder(model, save_dir, GANNED_dir, 256, 256, False)"
   ]
  }
 ],
 "metadata": {
  "kernelspec": {
   "display_name": "Python 3",
   "language": "python",
   "name": "python3"
  },
  "language_info": {
   "codemirror_mode": {
    "name": "ipython",
    "version": 3
   },
   "file_extension": ".py",
   "mimetype": "text/x-python",
   "name": "python",
   "nbconvert_exporter": "python",
   "pygments_lexer": "ipython3",
   "version": "3.10.6"
  },
  "orig_nbformat": 4,
  "vscode": {
   "interpreter": {
    "hash": "916dbcbb3f70747c44a77c7bcd40155683ae19c65e1c03b4aa3499c5328201f1"
   }
  }
 },
 "nbformat": 4,
 "nbformat_minor": 2
}
