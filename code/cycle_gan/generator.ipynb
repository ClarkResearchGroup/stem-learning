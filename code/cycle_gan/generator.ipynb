{
 "cells": [
  {
   "cell_type": "markdown",
   "source": [
    "# Genrating Images\r\n",
    "In this notebook, we will use a trained GAN to generate an experimental image from simulated data."
   ],
   "metadata": {}
  },
  {
   "cell_type": "code",
   "execution_count": null,
   "source": [
    "import tensorflow as tf\r\n",
    "from models import unet_generator\r\n",
    "from generate_image import generate_image"
   ],
   "outputs": [],
   "metadata": {}
  },
  {
   "cell_type": "code",
   "execution_count": null,
   "source": [
    "parent_dir = \"C:/Users/abidk/Dropbox/Development/programs/stem-learning/\"\r\n",
    "sim_dir_raw = parent_dir + \"data/cyclegan_data/sim_50/\"\r\n",
    "\r\n",
    "sim_dir = parent_dir + \"data/cyclegan_data/sim_50_gan/\"\r\n",
    "\r\n",
    "fine_size, stride = 256, 32\r\n",
    "num_channels=1\r\n",
    "\r\n",
    "identifier = \"20210921_unet_dist_gen_20\" #gan checkpoint\r\n"
   ],
   "outputs": [],
   "metadata": {}
  },
  {
   "cell_type": "code",
   "execution_count": null,
   "source": [
    "generator_exp = unet_generator(num_channels, 1, \"instancenorm\")\r\n",
    "generator_sim = unet_generator(1, num_channels, \"instancenorm\")"
   ],
   "outputs": [],
   "metadata": {}
  },
  {
   "cell_type": "code",
   "execution_count": null,
   "source": [
    "checkpoint_path = parent_dir + \"cycle_gan_results/checkpoints/checkpoint_{}\".format(identifier)\r\n",
    "log_data_fn = \"{}/data_{}.p\".format(checkpoint_path, identifier)\r\n",
    "\r\n",
    "ckpt = tf.train.Checkpoint(generator_exp=generator_exp,\r\n",
    "                           generator_sim=generator_sim)\r\n",
    "\r\n",
    "ckpt_manager = tf.train.CheckpointManager(ckpt, checkpoint_path, max_to_keep=3)\r\n",
    "\r\n",
    "# if a checkpoint exists, restore the latest checkpoint.\r\n",
    "if ckpt_manager.latest_checkpoint:\r\n",
    "    #cpath = ckpt_manager.checkpoints[-2]\r\n",
    "    cpath = ckpt_manager.latest_checkpoint\r\n",
    "    print(\"loading checkpoint \", cpath)\r\n",
    "    ckpt.restore(cpath)\r\n",
    "    print ('Latest checkpoint restored!')"
   ],
   "outputs": [],
   "metadata": {}
  },
  {
   "cell_type": "code",
   "execution_count": null,
   "source": [
    "model = generator_exp\r\n",
    "input_file = sim_dir_raw + \"/image0/input.tiff\"\r\n",
    "fine_size = 256\r\n",
    "stride= 64\r\n",
    "avg=False\r\n",
    "plot=True\r\n",
    "save_data=True\r\n",
    "save_dir='./'\r\n",
    "fname='generated_input.tiff'"
   ],
   "outputs": [],
   "metadata": {}
  },
  {
   "cell_type": "code",
   "execution_count": null,
   "source": [
    "img = generate_image(model, input_file, fine_size, stride, avg, plot, save_data, save_dir,fname)"
   ],
   "outputs": [],
   "metadata": {}
  },
  {
   "cell_type": "markdown",
   "source": [
    "If we want to make batch images:"
   ],
   "metadata": {}
  },
  {
   "cell_type": "code",
   "execution_count": null,
   "source": [
    "for i in range(50):\r\n",
    "        input_file = sim_dir_raw + \"/image{}/input.tiff\".format(i)\r\n",
    "        save_dir = './sim_50_gan/image{}/'.format(i)\r\n",
    "        fname=\"input.tiff\"\r\n",
    "        generate_image(model, input_file, fine_size, stride, avg, \\\r\n",
    "                plot, save_data, save_dir,fname)"
   ],
   "outputs": [],
   "metadata": {}
  }
 ],
 "metadata": {
  "orig_nbformat": 4,
  "language_info": {
   "name": "python",
   "version": "3.9.7",
   "mimetype": "text/x-python",
   "codemirror_mode": {
    "name": "ipython",
    "version": 3
   },
   "pygments_lexer": "ipython3",
   "nbconvert_exporter": "python",
   "file_extension": ".py"
  },
  "kernelspec": {
   "name": "python3",
   "display_name": "Python 3.9.7 64-bit"
  },
  "interpreter": {
   "hash": "f914bd1de16c1cf64603350c7875757b86e1be9b95a8f8e4031868a367954dd5"
  }
 },
 "nbformat": 4,
 "nbformat_minor": 2
}