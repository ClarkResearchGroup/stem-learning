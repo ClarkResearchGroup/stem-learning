{
 "cells": [
  {
   "cell_type": "markdown",
   "metadata": {},
   "source": [
    "# Genrating Images\n",
    "In this notebook, we will use a trained GAN to generate an experimental image from simulated data."
   ]
  },
  {
   "cell_type": "code",
   "execution_count": null,
   "metadata": {},
   "outputs": [],
   "source": [
    "import tensorflow as tf\n",
    "from models import unet_generator\n",
    "from generate_image import generate_image, GAN_image_folder\n",
    "import os, shutil"
   ]
  },
  {
   "cell_type": "code",
   "execution_count": null,
   "metadata": {},
   "outputs": [],
   "source": [
    "parent_dir = \"D:/stem-learning/\"\n",
    "sim_dir = parent_dir + \"data/WSe/data_for_gan/simulation/sim_pristine_0.1_noised/\"\n",
    "identifier = \"20220525_unet_dist_gen_fft_10_pristine_gaussian_0.1\"\n",
    "\n",
    "fine_size, stride = 256, 256\n",
    "num_channels=1\n",
    "\n",
    "\n",
    "model_type = \"exp\"\n",
    "input_file = sim_dir + \"sim_images_stack0000_000.tiff\"\n",
    "fine_size = 256\n",
    "stride= 256\n",
    "avg=False\n",
    "plot=True\n",
    "save_data=True\n",
    "save_dir=parent_dir\n",
    "fname='generated_input.tiff'\n",
    "\n",
    "save_dir = parent_dir + \"data/WSe/data_for_gan/generated/GANNED_SIM/sim_abberation_{}/\".format(identifier)\n",
    "\n",
    "input_dir = sim_dir\n",
    "\n",
    "########################################################################################################################\n",
    "data_folder_with_labels = parent_dir + \"data/WSe/data_for_gan/simulation/data_folders_with_labels/\"\n",
    "input_folder = save_dir\n",
    "target_folder = parent_dir + \"data/WSe/data_for_gan/generated/GANNED_DATA_FOLDER/data_folder_{}\".format(identifier)"
   ]
  },
  {
   "cell_type": "code",
   "execution_count": null,
   "metadata": {},
   "outputs": [],
   "source": [
    "generator_exp = unet_generator(num_channels, 1, \"instancenorm\")\n",
    "generator_sim = unet_generator(1, num_channels, \"instancenorm\")\n",
    "model = generator_exp if model_type == \"exp\" else generator_sim"
   ]
  },
  {
   "cell_type": "code",
   "execution_count": null,
   "metadata": {},
   "outputs": [],
   "source": [
    "checkpoint_path = parent_dir + \"cycle_gan_results/checkpoints/checkpoint_{}\".format(identifier)\n",
    "log_data_fn = \"{}/data_{}.p\".format(checkpoint_path, identifier)\n",
    "\n",
    "ckpt = tf.train.Checkpoint(generator_exp=generator_exp,\n",
    "                           generator_sim=generator_sim)\n",
    "\n",
    "ckpt_manager = tf.train.CheckpointManager(ckpt, checkpoint_path, max_to_keep=3)\n",
    "\n",
    "# if a checkpoint exists, restore the latest checkpoint.\n",
    "if ckpt_manager.latest_checkpoint:\n",
    "    #cpath = ckpt_manager.checkpoints[-2]\n",
    "    cpath = ckpt_manager.latest_checkpoint\n",
    "    print(\"loading checkpoint \", cpath)\n",
    "    ckpt.restore(cpath)\n",
    "    print ('Latest checkpoint restored!')"
   ]
  },
  {
   "cell_type": "code",
   "execution_count": null,
   "metadata": {},
   "outputs": [],
   "source": [
    "img = generate_image(model, input_file, fine_size, stride, avg, plot, save_data, save_dir,fname)"
   ]
  },
  {
   "cell_type": "markdown",
   "metadata": {},
   "source": [
    "If we want to make batch images:"
   ]
  },
  {
   "cell_type": "code",
   "execution_count": null,
   "metadata": {},
   "outputs": [],
   "source": [
    "GAN_image_folder(model, input_dir, save_dir, fine_size, stride, avg)"
   ]
  },
  {
   "cell_type": "code",
   "execution_count": null,
   "metadata": {},
   "outputs": [],
   "source": [
    "def make_folder(data_folder_with_labels, input_folder, target_folder):\n",
    "    shutil.copytree(data_folder_with_labels, target_folder, dirs_exist_ok=True)\n",
    "    for img_file, save_dir in zip(os.listdir(input_folder), os.listdir(target_folder)):\n",
    "        full_src = os.path.join(input_folder, img_file)\n",
    "        full_dst = os.path.join(target_folder, save_dir, \"input.tiff\")\n",
    "        shutil.copy(full_src, full_dst)"
   ]
  },
  {
   "cell_type": "code",
   "execution_count": null,
   "metadata": {},
   "outputs": [],
   "source": [
    "make_folder(data_folder_with_labels, input_folder, target_folder)"
   ]
  }
 ],
 "metadata": {
  "interpreter": {
   "hash": "ec772f830160d69d38705b4523acafc483ac4a24cc29ee6bb51e4e8e36c25f20"
  },
  "kernelspec": {
   "display_name": "Python 3.9.10 64-bit",
   "language": "python",
   "name": "python3"
  },
  "language_info": {
   "codemirror_mode": {
    "name": "ipython",
    "version": 3
   },
   "file_extension": ".py",
   "mimetype": "text/x-python",
   "name": "python",
   "nbconvert_exporter": "python",
   "pygments_lexer": "ipython3",
   "version": "3.9.10"
  },
  "orig_nbformat": 4
 },
 "nbformat": 4,
 "nbformat_minor": 2
}
