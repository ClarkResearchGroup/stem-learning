{
 "cells": [
  {
   "cell_type": "code",
   "execution_count": 1,
   "metadata": {},
   "outputs": [
    {
     "name": "stdout",
     "output_type": "stream",
     "text": [
      "Num GPUs Available:  1\n"
     ]
    }
   ],
   "source": [
    "import sys\n",
    "import os\n",
    "os.environ['TF_CPP_MIN_LOG_LEVEL'] = '3' \n",
    "import numpy as np\n",
    "from numpy import cov\n",
    "from numpy import trace\n",
    "from numpy import iscomplexobj\n",
    "from scipy.linalg import sqrtm\n",
    "import tensorflow as tf\n",
    "from keras.applications.inception_v3 import InceptionV3\n",
    "from keras.applications.inception_v3 import preprocess_input\n",
    "from make_dataset import process_image, parse_and_save_dir\n",
    "\n",
    "print(\"Num GPUs Available: \", len(tf.config.list_physical_devices('GPU')))"
   ]
  },
  {
   "cell_type": "code",
   "execution_count": 2,
   "metadata": {},
   "outputs": [],
   "source": [
    "def load_dataset(image_dir):\n",
    "    data_list = []\n",
    "    fn_list = [x for x in os.listdir(image_dir) if \".tif\" in x]\n",
    "    for fn in fn_list:\n",
    "        input_file = image_dir + fn\n",
    "        data = process_image(input_file)\n",
    "        data_list.append(data)\n",
    "    return data_list\n",
    "\n",
    "# calculate frechet inception distance\n",
    "def calculate_fid(model, images1, images2):\n",
    "    # calculate activations\n",
    "    act1 = model.predict(images1)\n",
    "    act2 = model.predict(images2)\n",
    "    \n",
    "    # calculate mean and covariance statistics\n",
    "    mu1, sigma1 = act1.mean(axis=0), cov(act1, rowvar=False)\n",
    "    mu2, sigma2 = act2.mean(axis=0), cov(act2, rowvar=False)\n",
    "\n",
    "    # calculate sum squared difference between means\n",
    "    ssdiff  = np.sum((mu1 - mu2)**2.0)\n",
    "    # calculate sqrt of product between cov\n",
    "    covmean  = sqrtm(sigma1.dot(sigma2))\n",
    "\n",
    "    # check and correct imaginary numbers from sqrt\n",
    "    if iscomplexobj(covmean):\n",
    "        covmean = covmean.real\n",
    "        \n",
    "    # calculate score\n",
    "    fid = ssdiff + trace(sigma1 + sigma2 - 2.0 * covmean)\n",
    "\n",
    "    return fid\n",
    "\n",
    "def expand_channels(data_list):\n",
    "    lx, ly, _ = data_list[0].shape\n",
    "    new_data = []\n",
    "    for data in data_list:\n",
    "        expanded_data = np.zeros((lx, ly, 3))\n",
    "        expanded_data[:,:,0] = data[:,:,0]\n",
    "        data_fft = np.fft.fftshift(np.fft.fft2(data[:,:,0]))\n",
    "        rfft = data_fft.real \n",
    "        ifft = data_fft.imag\n",
    "        power = rfft*rfft + ifft*ifft\n",
    "        expanded_data[:,:,1] = np.log10(power)\n",
    "        new_data.append(expanded_data)\n",
    "    return np.array(new_data)"
   ]
  },
  {
   "cell_type": "code",
   "execution_count": 3,
   "metadata": {},
   "outputs": [
    {
     "name": "stdout",
     "output_type": "stream",
     "text": [
      "171/171 [==============================] - 7s 26ms/step\n",
      "35/35 [==============================] - 1s 33ms/step\n",
      "          FID (exp, gan): 0.477\n"
     ]
    }
   ],
   "source": [
    "image_gan_dir = \"/mnt/d/GANNED_SIM_20230111_MODEL_unet_ident_gen_fft_bincross_10_SIM_pristine_gaussian_0.1_EXP_Gr_3/\"\n",
    "image_exp_dir = \"/mnt/d/stem-learning/data/Gr/GR_3/exp_1K_256_slices/\"\n",
    "\n",
    "image_gan = preprocess_input(expand_channels(load_dataset(image_gan_dir)))\n",
    "image_exp = preprocess_input(expand_channels(load_dataset(image_exp_dir)))\n",
    "\n",
    "model = InceptionV3(include_top=False, pooling='avg', input_shape=(256,256,3))\n",
    "fid = calculate_fid(model, image_exp, image_gan)\n",
    "print('          FID (exp, gan): %.3f' % fid)\n"
   ]
  },
  {
   "cell_type": "code",
   "execution_count": null,
   "metadata": {},
   "outputs": [
    {
     "name": "stdout",
     "output_type": "stream",
     "text": [
      "IDX = 1\n",
      "gaussian = 0.1\n",
      "171/171 [==============================] - 5s 26ms/step\n",
      "35/35 [==============================] - 1s 37ms/step\n",
      "35/35 [==============================] - 1s 25ms/step\n",
      "FID (exp, sim): 24.002\n",
      "FID (exp, gan): 8.749\n",
      "IDX = 2\n",
      "gaussian = 0.1\n",
      "171/171 [==============================] - 5s 26ms/step\n",
      "35/35 [==============================] - 1s 26ms/step\n",
      "35/35 [==============================] - 1s 26ms/step\n",
      "FID (exp, sim): 26.843\n",
      "FID (exp, gan): 3.763\n",
      "IDX = 3\n",
      "gaussian = 0.1\n",
      "171/171 [==============================] - 5s 26ms/step\n",
      "35/35 [==============================] - 1s 27ms/step\n",
      "35/35 [==============================] - 1s 27ms/step\n",
      "FID (exp, sim): 32.690\n",
      "FID (exp, gan): 1.661\n"
     ]
    },
    {
     "ename": "",
     "evalue": "",
     "output_type": "error",
     "traceback": [
      "\u001b[1;31mnotebook controller is DISPOSED. \n",
      "\u001b[1;31mView Jupyter <a href='command:jupyter.viewOutput'>log</a> for further details."
     ]
    }
   ],
   "source": [
    "for idx in [1, 2, 3]:\n",
    "    print(\"IDX = {}\".format(idx))\n",
    "    image_dir1 = \"D:/Gr/Gr_{}/exp_1K_256_slices/\".format(idx)\n",
    "    images1 = expand_channels(load_dataset(image_dir1))\n",
    "    images1 = preprocess_input(images1)\n",
    "\n",
    "    for i in [0.1]:\n",
    "        print(\"gaussian = {}\".format(i))\n",
    "        image_dir2 = \"D:/Gr/Gr_{}/sim_1K_gauss_{}_256_slices/\".format(idx, i)\n",
    "        image_dir3 = \"D:/Gr/Gr_{}/GANNED_SIM/exp/sim_abberation_20220727_MODEL_unet_ident_gen_fft_10_SIM_pristine_gaussian_{}_EXP_Gr_{}/\".format(idx, i, idx)\n",
    "\n",
    "        images2 = expand_channels(load_dataset(image_dir2))\n",
    "        images3 = expand_channels(load_dataset(image_dir3))\n",
    "\n",
    "        images2 = preprocess_input(images2)\n",
    "        images3 = preprocess_input(images3)\n",
    "        \n",
    "        model = InceptionV3(include_top=False, pooling='avg', input_shape=(256,256,3))\n",
    "        fid1, fid2 = calculate_fid(model, images1, images2, images3)\n",
    "        print('FID (exp, sim): %.3f' % fid1)\n",
    "        print('FID (exp, gan): %.3f' % fid2)"
   ]
  },
  {
   "cell_type": "code",
   "execution_count": 3,
   "metadata": {},
   "outputs": [
    {
     "name": "stdout",
     "output_type": "stream",
     "text": [
      "IDX = 3\n",
      "     gaussian = 0.1\n",
      "32/32 [==============================] - 9s 40ms/step\n",
      "32/32 [==============================] - 1s 25ms/step\n",
      "32/32 [==============================] - 1s 25ms/step\n",
      "          FID (exp, sim): 19.595\n",
      "          FID (exp, gan): 0.474\n"
     ]
    }
   ],
   "source": [
    "for idx in [3]:\n",
    "    print(\"IDX = {}\".format(idx))\n",
    "    image_dir1 = \"D:/STO/STO_{}/exp_1K_256_slices/\".format(idx)\n",
    "    images1 = expand_channels(load_dataset(image_dir1))\n",
    "    images1 = preprocess_input(images1)[:1000]\n",
    "\n",
    "    for i in [0.1]:\n",
    "        print(\"     gaussian = {}\".format(i))\n",
    "        image_dir2 = \"D:/STO/STO_{}/sim_1K_gauss_{}_256_slices/\".format(idx, i)\n",
    "        image_dir3 = \"D:/STO/STO_{}/GANNED_SIM/exp/sim_abberation_20220727_MODEL_unet_ident_gen_fft_10_SIM_pristine_gaussian_{}_EXP_STO_{}/\".format(idx, i, idx)\n",
    "\n",
    "        images2 = expand_channels(load_dataset(image_dir2))\n",
    "        images3 = expand_channels(load_dataset(image_dir3))\n",
    "\n",
    "        images2 = preprocess_input(images2)[:1000]\n",
    "        images3 = preprocess_input(images3)[:1000]\n",
    "        \n",
    "        model = InceptionV3(include_top=False, pooling='avg', input_shape=(256,256,3))\n",
    "        fid1, fid2 = calculate_fid(model, images1, images2, images3)\n",
    "        print('          FID (exp, sim): %.3f' % fid1)\n",
    "        print('          FID (exp, gan): %.3f' % fid2)"
   ]
  },
  {
   "cell_type": "code",
   "execution_count": 8,
   "metadata": {},
   "outputs": [],
   "source": [
    "ganned_sim_dir = \"/mnt/d/stem-learning/data/WSe/data_for_gan/generated/GANNED_SIM/exp/\"\n",
    "\n",
    "for idfn in [\"107\", \"212\", \"all\"]:\n",
    "    identifier = \"sim_abberation_20220705_MODEL_unet_ident_gen_fft_10_SIM_pristine_gaussian_0.1_EXP_{}\".format(idfn)\n",
    "    image_dir = \"{}{}/\".format(ganned_sim_dir, identifier)\n",
    "    parse_and_save_dir(image_dir, save_dir=image_dir[:-1]+\"_256_slices/\")"
   ]
  },
  {
   "cell_type": "code",
   "execution_count": 15,
   "metadata": {},
   "outputs": [
    {
     "name": "stdout",
     "output_type": "stream",
     "text": [
      "54/54 [==============================] - 2s 27ms/step\n",
      "54/54 [==============================] - 2s 26ms/step\n",
      "107/107 [==============================] - 3s 27ms/step\n",
      "54/54 [==============================] - 2s 29ms/step\n",
      "54/54 [==============================] - 2s 28ms/step\n",
      "54/54 [==============================] - 2s 29ms/step\n",
      "          FID (exp, man): 0.727\n",
      "          FID (exp, gan): 0.354\n",
      "          FID (exp, sim): 31.864\n"
     ]
    }
   ],
   "source": [
    "image_exp_dir = \"D:/stem-learning/data/WSe/data_for_gan/experiment/107_normalized_256_slices/\"\n",
    "image_man_dir = \"D:/data_for_chiahao/WSe/manual_sim_256_slices/\"\n",
    "image_gan_dir = \"D:/data_for_chiahao/WSe/GAN generated_256_slices/\"\n",
    "image_sim_dir = \"D:/data_for_chiahao/WSe/sim_pristine_256_slices/\"\n",
    "\n",
    "image_exp = expand_channels(load_dataset(image_exp_dir))\n",
    "image_man = expand_channels(load_dataset(image_man_dir))\n",
    "image_gan = expand_channels(load_dataset(image_gan_dir))\n",
    "image_sim = expand_channels(load_dataset(image_sim_dir))\n",
    "\n",
    "image_exp = preprocess_input(image_exp)\n",
    "image_man = preprocess_input(image_man)\n",
    "image_gan = preprocess_input(image_gan)\n",
    "image_sim = preprocess_input(image_sim)\n",
    "\n",
    "model = InceptionV3(include_top=False, pooling='avg', input_shape=(256,256,3))\n",
    "fid1, fid2 = calculate_fid(model, image_exp, image_man, image_gan)\n",
    "fid3, fid4 = calculate_fid(model, image_exp, image_man, image_sim)\n",
    "print('          FID (exp, man): %.3f' % fid1)\n",
    "print('          FID (exp, gan): %.3f' % fid2)\n",
    "print('          FID (exp, sim): %.3f' % fid4)"
   ]
  },
  {
   "cell_type": "code",
   "execution_count": 44,
   "metadata": {},
   "outputs": [
    {
     "name": "stdout",
     "output_type": "stream",
     "text": [
      "107_1840\n",
      "32/32 [==============================] - 2s 25ms/step\n",
      "54/54 [==============================] - 2s 28ms/step\n",
      "32/32 [==============================] - 1s 24ms/step\n",
      "32/32 [==============================] - 1s 30ms/step\n",
      "54/54 [==============================] - 1s 25ms/step\n",
      "54/54 [==============================] - 2s 30ms/step\n",
      "          FID (exp, sim): 31.501\n",
      "          FID (exp, man): 1.575\n",
      "          FID (exp, gan): 0.390\n",
      "107_1847\n",
      "32/32 [==============================] - 2s 27ms/step\n",
      "54/54 [==============================] - 1s 26ms/step\n",
      "32/32 [==============================] - 1s 25ms/step\n",
      "32/32 [==============================] - 1s 26ms/step\n",
      "54/54 [==============================] - 1s 25ms/step\n",
      "54/54 [==============================] - 2s 27ms/step\n",
      "          FID (exp, sim): 31.113\n",
      "          FID (exp, man): 1.333\n",
      "          FID (exp, gan): 0.458\n",
      "211_1528\n",
      "32/32 [==============================] - 2s 29ms/step\n",
      "54/54 [==============================] - 2s 28ms/step\n",
      "32/32 [==============================] - 1s 27ms/step\n",
      "32/32 [==============================] - 1s 26ms/step\n",
      "54/54 [==============================] - 2s 26ms/step\n",
      "54/54 [==============================] - 2s 27ms/step\n",
      "          FID (exp, sim): 31.111\n",
      "          FID (exp, man): 0.933\n",
      "          FID (exp, gan): 1.135\n",
      "211_1922\n",
      "32/32 [==============================] - 2s 26ms/step\n",
      "54/54 [==============================] - 2s 27ms/step\n",
      "32/32 [==============================] - 1s 26ms/step\n",
      "32/32 [==============================] - 1s 29ms/step\n",
      "54/54 [==============================] - 1s 25ms/step\n",
      "54/54 [==============================] - 1s 26ms/step\n",
      "          FID (exp, sim): 31.620\n",
      "          FID (exp, man): 0.927\n",
      "          FID (exp, gan): 0.864\n",
      "211_2124\n",
      "32/32 [==============================] - 2s 26ms/step\n",
      "54/54 [==============================] - 1s 26ms/step\n",
      "32/32 [==============================] - 1s 30ms/step\n",
      "32/32 [==============================] - 1s 28ms/step\n",
      "54/54 [==============================] - 1s 26ms/step\n",
      "54/54 [==============================] - 1s 26ms/step\n",
      "          FID (exp, sim): 30.898\n",
      "          FID (exp, man): 1.002\n",
      "          FID (exp, gan): 1.217\n"
     ]
    }
   ],
   "source": [
    "for dataset in [\"107_1840\", \"107_1847\", \"211_1528\", \"211_1922\", \"211_2124\"]:\n",
    "    print(dataset)\n",
    "    identifier = \"20220705_MODEL_unet_ident_gen_fft_10_SIM_pristine_gaussian_0.1_EXP_{}\".format(dataset)\n",
    "    image_gan_dir_all = \"D:/stem-learning/data/WSe/data_for_gan/generated/GANNED_SIM/exp/sim_abberation_{}/\".format(identifier)\n",
    "    image_gan_dir = \"D:/stem-learning/data/WSe/data_for_gan/generated/GANNED_256/exp/sim_abberation_{}_256_slices/\".format(identifier)\n",
    "    parse_and_save_dir(image_gan_dir_all, save_dir=image_gan_dir)\n",
    "\n",
    "    image_exp_dir = \"D:/stem-learning/data/WSe/data_for_gan/experiment/mini_experiment_batch/RR_{}_256_slices/\".format(dataset)\n",
    "    #image_man_dir = \"D:/data_for_chiahao/WSe/manual_sim_256_slices/\"\n",
    "    #image_sim_dir = \"D:/data_for_chiahao/WSe/sim_pristine_256_slices/\"\n",
    "\n",
    "    image_exp = preprocess_input(expand_channels(load_dataset(image_exp_dir)[:1000]))\n",
    "    #image_man = preprocess_input(expand_channels(load_dataset(image_man_dir)))\n",
    "    image_gan = preprocess_input(expand_channels(load_dataset(image_gan_dir)[:1000]))\n",
    "    #image_sim = preprocess_input(expand_channels(load_dataset(image_sim_dir)))\n",
    "\n",
    "    model = InceptionV3(include_top=False, pooling='avg', input_shape=(256,256,3))\n",
    "    fid1, fid2 = calculate_fid(model, image_exp, image_man, image_gan)\n",
    "    fid3, fid4 = calculate_fid(model, image_exp, image_man, image_sim)\n",
    "    print('          FID (exp, sim): %.3f' % fid4)\n",
    "    print('          FID (exp, man): %.3f' % fid1)\n",
    "    print('          FID (exp, gan): %.3f' % fid2)\n"
   ]
  }
 ],
 "metadata": {
  "kernelspec": {
   "display_name": "Python 3",
   "language": "python",
   "name": "python3"
  },
  "language_info": {
   "codemirror_mode": {
    "name": "ipython",
    "version": 3
   },
   "file_extension": ".py",
   "mimetype": "text/x-python",
   "name": "python",
   "nbconvert_exporter": "python",
   "pygments_lexer": "ipython3",
   "version": "3.10.6"
  },
  "orig_nbformat": 4,
  "vscode": {
   "interpreter": {
    "hash": "916dbcbb3f70747c44a77c7bcd40155683ae19c65e1c03b4aa3499c5328201f1"
   }
  }
 },
 "nbformat": 4,
 "nbformat_minor": 2
}
