{
 "cells": [
  {
   "cell_type": "code",
   "execution_count": 1,
   "metadata": {},
   "outputs": [],
   "source": [
    "import os\n",
    "import shutil\n",
    "\n",
    "parent_dir = \"D:/stem-learning/\"\n",
    "\n",
    "identifier_list = [ \"20220505_unet_dist_gen_fft_5_1840\"]\n",
    "\n",
    "\n",
    "def make_folder(data_folder_with_labels, input_folder, target_folder):\n",
    "    shutil.copytree(data_folder_with_labels, target_folder, dirs_exist_ok=True)\n",
    "    for img_file, save_dir in zip(os.listdir(input_folder), os.listdir(target_folder)):\n",
    "        full_src = os.path.join(input_folder, img_file)\n",
    "        full_dst = os.path.join(target_folder, save_dir, \"input.tiff\")\n",
    "        shutil.copy(full_src, full_dst)\n"
   ]
  },
  {
   "cell_type": "code",
   "execution_count": 2,
   "metadata": {},
   "outputs": [],
   "source": [
    "for identifier in [identifier_list[-1]]:\n",
    "    data_folder_with_labels = parent_dir + \"data/WSe_ALL/data_folders_with_labels/\"\n",
    "    input_folder = parent_dir + \"data/WSe_ALL/GANNED_SIM/sim_abberation_{}/\".format(identifier)\n",
    "    target_folder = parent_dir + \"data/WSe_ALL/data_folder_{}\".format(identifier)\n",
    "\n",
    "    make_folder(data_folder_with_labels, input_folder, target_folder)"
   ]
  },
  {
   "cell_type": "code",
   "execution_count": 3,
   "metadata": {},
   "outputs": [],
   "source": [
    "\n",
    "import tifffile\n",
    "from make_dataset import process_image\n",
    "input_dir   = parent_dir + \"data/WSe_ALL/GANNED_SIM/\"\n",
    "save_folder = parent_dir + \"data/WSe_ALL/GANNED_256/\"\n",
    "os.makedirs(save_folder, exist_ok=True)\n",
    "for identifier in identifier_list:\n",
    "    input_file = input_dir + \"sim_abberation_{}/sim_images_stack0000.tif\".format(identifier)\n",
    "    img = process_image(input_file)[:256,:256,:].reshape((256,256))\n",
    "    save_fn = \"{}{}.tif\".format(save_folder, identifier)\n",
    "    tifffile.imwrite(save_fn, img)"
   ]
  },
  {
   "cell_type": "markdown",
   "metadata": {},
   "source": [
    "This code below is to normalize the sim_abberation folder so that we can gan correctly with it"
   ]
  },
  {
   "cell_type": "code",
   "execution_count": 2,
   "metadata": {},
   "outputs": [],
   "source": [
    "\n",
    "from make_dataset import find_min_max_vals, process_image\n",
    "from tifffile import imwrite\n",
    "sim_dir = parent_dir + \"data/WSe/data_for_gan/simulation/sim_pristine/\"\n",
    "min_v, max_v = find_min_max_vals(sim_dir)\n",
    "new_save_dir = parent_dir + \"data/WSe/data_for_gan/simulation/sim_pristine_normalized/\"\n",
    "os.makedirs(new_save_dir, exist_ok=True)\n",
    "for fn in os.listdir(sim_dir):\n",
    "    data = process_image(os.path.join(sim_dir, fn))\n",
    "    data[:,:,0] = 2*( (data[:,:,0] - min_v[0])/(max_v[0] - min_v[0]) - .5)\n",
    "    imwrite(os.path.join(new_save_dir, fn), data)\n",
    "\n"
   ]
  },
  {
   "cell_type": "code",
   "execution_count": null,
   "metadata": {},
   "outputs": [],
   "source": []
  }
 ],
 "metadata": {
  "interpreter": {
   "hash": "ec772f830160d69d38705b4523acafc483ac4a24cc29ee6bb51e4e8e36c25f20"
  },
  "kernelspec": {
   "display_name": "Python 3.9.10 64-bit",
   "language": "python",
   "name": "python3"
  },
  "language_info": {
   "codemirror_mode": {
    "name": "ipython",
    "version": 3
   },
   "file_extension": ".py",
   "mimetype": "text/x-python",
   "name": "python",
   "nbconvert_exporter": "python",
   "pygments_lexer": "ipython3",
   "version": "3.9.10"
  },
  "orig_nbformat": 4
 },
 "nbformat": 4,
 "nbformat_minor": 2
}
