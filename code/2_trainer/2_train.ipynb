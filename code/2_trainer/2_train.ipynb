{
 "cells": [
  {
   "cell_type": "markdown",
   "metadata": {},
   "source": [
    "# Training FCN Model\n",
    "This script performs the training of a network after the dataset has been constructed. Four modules are used in this training:\n",
    "\n",
    "1. `input_data.py`: This module loads in the training and testing data that was created, and prepares it so that it can be fed into the neural network for training.\n",
    "2. `models.py`: this module contains different types of neural network architectures. One can choose a model from this script and train it.\n",
    "3. `training_utilities.py`: this module contains functions to construct models, set up diagnostic files, and perform the training on the model.\n",
    "4. `accuracy.py`: The accuracy that the FCN outputs looks at the predicted label and evaluated label, and does a pixelwise comparison (#pixels set to the correct value)/(#pixels in the image). This isn't the best way to determine the success of our model. Rather, we want to look at a metric that shows that the model is detecting defects (where each defect consists of multiple pixels). Hence we use measures such as the recall, which is the number of true positive defect detections TN over the true positives plus the false negatives (FN), R = TN/(TN+FN). This module helps in calculating such metrics\n",
    "\n",
    "First, we import these modules"
   ]
  },
  {
   "cell_type": "code",
   "execution_count": null,
   "metadata": {},
   "outputs": [],
   "source": [
    "from input_data import *\n",
    "from models import *\n",
    "from training_utilities import *"
   ]
  },
  {
   "cell_type": "markdown",
   "metadata": {},
   "source": [
    "## Parameters ##\n",
    "Next, we need to provide parameter information based on the data and model we're using.\n",
    "\n",
    "**parent_dir**: This is the path to the \"stem-learning\" code\n",
    "\n",
    "**data_dir**: This is the path to the data that we created in the preprocessing section\n",
    "\n",
    "**sess_name**: we will create a folder in the \"results\" directory called session_name, where all the output will be stored\n",
    "\n",
    "**N**: This is the pixel width/height of the input images (note we're assuming a square image)\n",
    "\n",
    "**k_fac**: this is a factor that describes how many channels we want per layer in our FCNs. Whatever the default value is per layer, it is multiplied by k_fac.\n",
    "\n",
    "**nb_classes**: this is the number of labels that we are learning at once. For example, if our data is just the \"2Te\" labels, then nb_classes = 2 (2Te and no defect). \n",
    "\n",
    "**dropout**: This is the dropout rate at the end of our FCN\n",
    "\n",
    "**num_steps**: The total number of steps to train on (-1 for infinite loop)"
   ]
  },
  {
   "cell_type": "code",
   "execution_count": null,
   "metadata": {},
   "outputs": [],
   "source": [
    "parent_dir = '/home/abid/Dropbox/Development/programs/stem-learning/'\n",
    "data_dir   = parent_dir + 'data/WSeTe/simulated/parsed_label_Se/'\n",
    "sess_name  = 'Se'\n",
    "N          = 256\n",
    "k_fac      = 16\n",
    "nb_classes = 2\n",
    "num_steps  = 10"
   ]
  },
  {
   "cell_type": "markdown",
   "metadata": {},
   "source": [
    "The variables below are then created to locate the directories that we'll be storing our data"
   ]
  },
  {
   "cell_type": "code",
   "execution_count": null,
   "metadata": {},
   "outputs": [],
   "source": [
    "from os import makedirs\n",
    "sess_dir = parent_dir + \"results/\" + sess_name + \"/\"\n",
    "makedirs(sess_dir, exist_ok=True)\n",
    "\n",
    "model_weights_fn = sess_dir + \"weights.h5\"\n",
    "model_fn         = sess_dir + \"model.json\"\n",
    "diagnostics_fn   = sess_dir + \"diagnostics.dat\""
   ]
  },
  {
   "cell_type": "markdown",
   "metadata": {},
   "source": [
    "Now we create the model and set up a diagnostics file"
   ]
  },
  {
   "cell_type": "code",
   "execution_count": null,
   "metadata": {},
   "outputs": [],
   "source": [
    "model = construct_model(N, k_fac, nb_classes, sess_dir, model_fn, model_weights_fn)\n",
    "step = setup_diagnostics(diagnostics_fn)"
   ]
  },
  {
   "cell_type": "markdown",
   "metadata": {},
   "source": [
    "Finally, we train"
   ]
  },
  {
   "cell_type": "code",
   "execution_count": null,
   "metadata": {},
   "outputs": [],
   "source": [
    "train(step, data_dir, N, nb_classes, model, diagnostics_fn, model_weights_fn, num_steps=num_steps)"
   ]
  }
 ],
 "metadata": {
  "kernelspec": {
   "display_name": "Python 3",
   "language": "python",
   "name": "python3"
  },
  "language_info": {
   "codemirror_mode": {
    "name": "ipython",
    "version": 3
   },
   "file_extension": ".py",
   "mimetype": "text/x-python",
   "name": "python",
   "nbconvert_exporter": "python",
   "pygments_lexer": "ipython3",
   "version": "3.8.2"
  }
 },
 "nbformat": 4,
 "nbformat_minor": 2
}
