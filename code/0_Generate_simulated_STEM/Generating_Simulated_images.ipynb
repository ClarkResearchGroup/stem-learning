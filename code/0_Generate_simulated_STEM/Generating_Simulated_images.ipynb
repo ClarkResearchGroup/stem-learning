{
 "cells": [
  {
   "cell_type": "markdown",
   "source": [
    "# Generating Simulated Images\n",
    "\n",
    "In this notebook, we'll generate simulated images from incostem (computem written by Earl Kirkland)\n",
    "\n",
    "Last modified: 08/04/2021\n",
    "\n",
    "## Overview\n",
    "\n",
    "- ### generate_simulated_image.py\n",
    "The main script including loading necessary parameters and functions, call incostem for image simulation, post-processing, and removing temporary files.\n",
    "\n",
    "- ### params.py\n",
    "The py file contains necessary simulation parameters (crystal structures, defect densities, microscope parameters). These parameters should be carefully set to reflect the actual variation in your experimental data set.\n",
    "\n",
    "- ### post_process.py\n",
    "The py file contains post-processing functions and experimentalize parameters to make simulated images more realistic comparing to experimental images.\n",
    "\n",
    "## Note for incostem (computem)\n",
    "\n",
    "To run incostem successfully, check the following:\n",
    "1. Download the executable or compile it from the source code. Link: https://sourceforge.net/projects/computem/files/ \n",
    "2. The flag \"if_incostem_cmd\" in \"param.py\" must reflect your working environment. \"True\" for cmd users, \"False\" for Linux users.\n",
    "3. The path of computem must be added to the environmental variable of \"Path\""
   ],
   "metadata": {}
  },
  {
   "cell_type": "code",
   "execution_count": 1,
   "source": [
    "from generate_simulated_image import *"
   ],
   "outputs": [],
   "metadata": {}
  },
  {
   "cell_type": "code",
   "execution_count": 2,
   "source": [
    "incostem_dir = \"./\"\r\n",
    "experimentalize=False\r\n",
    "bkg_file = None\r\n",
    "num_files = 1\r\n",
    "save_as_stack = False\r\n",
    "save_path = \"./sim_image/\"\r\n",
    "# incostem_dir is the main output directory for our final simulated images\r\n",
    "# experimentalize includes shear/contraction, brightness/contrast, Gaussian noise, and non-uniform background\r\n",
    "# The \"bkg_file\" is extracted from real experimental data to better emulate the surface contamination. \r\n",
    "# The background extraction could be done by imageJ or Fourier filtering\r\n"
   ],
   "outputs": [],
   "metadata": {}
  },
  {
   "cell_type": "code",
   "execution_count": 3,
   "source": [
    "create_simulated_image(incostem_dir, save_path=\"./sim_image/\", experimentalize=experimentalize, \r\n",
    "                       bkg_file=bkg_file, num_files = num_files, save_as_stack=save_as_stack)"
   ],
   "outputs": [
    {
     "output_type": "stream",
     "name": "stdout",
     "text": [
      "./incostem<WSe_incostem_64_37_1_0.param \n",
      "\n",
      "ERROR EXECUTING COMMAND:  ./incostem<WSe_incostem_64_37_1_0.param \n",
      "\n",
      "./incostem<WSe_metal_Doped_incostem_64_37_1_0.param \n",
      "\n",
      "ERROR EXECUTING COMMAND:  ./incostem<WSe_metal_Doped_incostem_64_37_1_0.param \n",
      "\n",
      "./incostem<WSe_cmetal_vacancy_incostem_64_37_1_0.param \n",
      "\n",
      "ERROR EXECUTING COMMAND:  ./incostem<WSe_cmetal_vacancy_incostem_64_37_1_0.param \n",
      "\n",
      "./incostem<WSe_2Doped_incostem_64_37_1_0.param \n",
      "\n",
      "ERROR EXECUTING COMMAND:  ./incostem<WSe_2Doped_incostem_64_37_1_0.param \n",
      "\n",
      "./incostem<WSe_1Doped_incostem_64_37_1_0.param \n",
      "\n",
      "ERROR EXECUTING COMMAND:  ./incostem<WSe_1Doped_incostem_64_37_1_0.param \n",
      "\n",
      "./incostem<WSe_1vacancy_incostem_64_37_1_0.param \n",
      "\n",
      "ERROR EXECUTING COMMAND:  ./incostem<WSe_1vacancy_incostem_64_37_1_0.param \n",
      "\n",
      "./incostem<WSe_2vacancy_incostem_64_37_1_0.param \n",
      "\n",
      "ERROR EXECUTING COMMAND:  ./incostem<WSe_2vacancy_incostem_64_37_1_0.param \n",
      "\n"
     ]
    },
    {
     "output_type": "error",
     "ename": "IndexError",
     "evalue": "list index out of range",
     "traceback": [
      "\u001b[1;31m---------------------------------------------------------------------------\u001b[0m",
      "\u001b[1;31mIndexError\u001b[0m                                Traceback (most recent call last)",
      "\u001b[1;32m~\\AppData\\Local\\Temp/ipykernel_16248/470844151.py\u001b[0m in \u001b[0;36m<module>\u001b[1;34m\u001b[0m\n\u001b[1;32m----> 1\u001b[1;33m create_simulated_image(incostem_dir, save_path=\"./sim_image/\", experimentalize=experimentalize, \n\u001b[0m\u001b[0;32m      2\u001b[0m                        bkg_file=bkg_file, num_files = num_files, save_as_stack=save_as_stack)\n",
      "\u001b[1;32mc:\\Users\\abidk\\Dropbox\\Development\\programs\\stem-learning\\code\\0_Generate_simulated_STEM\\generate_simulated_image.py\u001b[0m in \u001b[0;36mcreate_simulated_image\u001b[1;34m(incostem_dir, save_path, experimentalize, bkg_file, num_files, save_as_stack)\u001b[0m\n\u001b[0;32m     24\u001b[0m     \u001b[1;31m### do postprocessing\u001b[0m\u001b[1;33m\u001b[0m\u001b[1;33m\u001b[0m\u001b[0m\n\u001b[0;32m     25\u001b[0m     \u001b[0mMypostprocess\u001b[0m \u001b[1;33m=\u001b[0m \u001b[0mpost_process\u001b[0m\u001b[1;33m(\u001b[0m\u001b[0mimage_path\u001b[0m\u001b[1;33m=\u001b[0m\u001b[1;34m\"./\"\u001b[0m\u001b[1;33m,\u001b[0m\u001b[0mfile_num\u001b[0m\u001b[1;33m=\u001b[0m\u001b[0mnum_files\u001b[0m\u001b[1;33m,\u001b[0m\u001b[0mdefect_list\u001b[0m \u001b[1;33m=\u001b[0m \u001b[0mdefect_list\u001b[0m\u001b[1;33m)\u001b[0m\u001b[1;33m\u001b[0m\u001b[1;33m\u001b[0m\u001b[0m\n\u001b[1;32m---> 26\u001b[1;33m     \u001b[0mMypostprocess\u001b[0m\u001b[1;33m.\u001b[0m\u001b[0mread_image_and_label\u001b[0m\u001b[1;33m(\u001b[0m\u001b[1;33m)\u001b[0m\u001b[1;33m\u001b[0m\u001b[1;33m\u001b[0m\u001b[0m\n\u001b[0m\u001b[0;32m     27\u001b[0m     \u001b[1;32mif\u001b[0m \u001b[0mexperimentalize\u001b[0m\u001b[1;33m:\u001b[0m\u001b[1;33m\u001b[0m\u001b[1;33m\u001b[0m\u001b[0m\n\u001b[0;32m     28\u001b[0m         \u001b[0mMypostprocess\u001b[0m\u001b[1;33m.\u001b[0m\u001b[0mexperimentalize\u001b[0m\u001b[1;33m(\u001b[0m\u001b[0mbkg_file\u001b[0m\u001b[1;33m)\u001b[0m\u001b[1;33m\u001b[0m\u001b[1;33m\u001b[0m\u001b[0m\n",
      "\u001b[1;32mc:\\Users\\abidk\\Dropbox\\Development\\programs\\stem-learning\\code\\0_Generate_simulated_STEM\\post_process.py\u001b[0m in \u001b[0;36mread_image_and_label\u001b[1;34m(self)\u001b[0m\n\u001b[0;32m     52\u001b[0m         \u001b[0mall_files\u001b[0m \u001b[1;33m=\u001b[0m \u001b[0mos\u001b[0m\u001b[1;33m.\u001b[0m\u001b[0mlistdir\u001b[0m\u001b[1;33m(\u001b[0m\u001b[0mself\u001b[0m\u001b[1;33m.\u001b[0m\u001b[0mimage_path\u001b[0m\u001b[1;33m)\u001b[0m\u001b[1;33m\u001b[0m\u001b[1;33m\u001b[0m\u001b[0m\n\u001b[0;32m     53\u001b[0m         \u001b[0mimage_list\u001b[0m \u001b[1;33m=\u001b[0m \u001b[1;33m[\u001b[0m\u001b[0mimage_file\u001b[0m \u001b[1;32mfor\u001b[0m \u001b[0mimage_file\u001b[0m \u001b[1;32min\u001b[0m \u001b[0mall_files\u001b[0m \u001b[1;32mif\u001b[0m \u001b[0mimage_file\u001b[0m\u001b[1;33m[\u001b[0m\u001b[1;33m:\u001b[0m\u001b[1;36m5\u001b[0m\u001b[1;33m]\u001b[0m \u001b[1;33m==\u001b[0m \u001b[1;34m'Image'\u001b[0m\u001b[1;33m]\u001b[0m\u001b[1;33m\u001b[0m\u001b[1;33m\u001b[0m\u001b[0m\n\u001b[1;32m---> 54\u001b[1;33m         \u001b[0mimg\u001b[0m \u001b[1;33m=\u001b[0m \u001b[0mplt\u001b[0m\u001b[1;33m.\u001b[0m\u001b[0mimread\u001b[0m\u001b[1;33m(\u001b[0m\u001b[0mself\u001b[0m\u001b[1;33m.\u001b[0m\u001b[0mimage_path\u001b[0m\u001b[1;33m+\u001b[0m\u001b[0mimage_list\u001b[0m\u001b[1;33m[\u001b[0m\u001b[1;36m0\u001b[0m\u001b[1;33m]\u001b[0m\u001b[1;33m)\u001b[0m\u001b[1;33m\u001b[0m\u001b[1;33m\u001b[0m\u001b[0m\n\u001b[0m\u001b[0;32m     55\u001b[0m         \u001b[1;31m#get image size\u001b[0m\u001b[1;33m\u001b[0m\u001b[1;33m\u001b[0m\u001b[0m\n\u001b[0;32m     56\u001b[0m         \u001b[0mx\u001b[0m\u001b[1;33m,\u001b[0m\u001b[0my\u001b[0m \u001b[1;33m=\u001b[0m \u001b[0mnp\u001b[0m\u001b[1;33m.\u001b[0m\u001b[0mshape\u001b[0m\u001b[1;33m(\u001b[0m\u001b[0mimg\u001b[0m\u001b[1;33m)\u001b[0m\u001b[1;33m\u001b[0m\u001b[1;33m\u001b[0m\u001b[0m\n",
      "\u001b[1;31mIndexError\u001b[0m: list index out of range"
     ]
    }
   ],
   "metadata": {}
  },
  {
   "cell_type": "code",
   "execution_count": null,
   "source": [],
   "outputs": [],
   "metadata": {}
  }
 ],
 "metadata": {
  "kernelspec": {
   "name": "python3",
   "display_name": "Python 3.9.7 64-bit"
  },
  "language_info": {
   "codemirror_mode": {
    "name": "ipython",
    "version": 3
   },
   "file_extension": ".py",
   "mimetype": "text/x-python",
   "name": "python",
   "nbconvert_exporter": "python",
   "pygments_lexer": "ipython3",
   "version": "3.9.7"
  },
  "interpreter": {
   "hash": "f914bd1de16c1cf64603350c7875757b86e1be9b95a8f8e4031868a367954dd5"
  }
 },
 "nbformat": 4,
 "nbformat_minor": 2
}