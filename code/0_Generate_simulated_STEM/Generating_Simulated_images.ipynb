{
 "cells": [
  {
   "cell_type": "markdown",
   "metadata": {},
   "source": [
    "# Generating Simulated Images\n",
    "\n",
    "In this notebook, we'll generate simulated images from incostem (computem written by Earl Kirkland)\n",
    "\n",
    "Last modified: 08/04/2021\n",
    "\n",
    "## Overview\n",
    "\n",
    "- ### generate_simulated_image.py\n",
    "The main script including loading necessary parameters and functions, call incostem for image simulation, post-processing, and removing temporary files.\n",
    "\n",
    "- ### params.py\n",
    "The py file contains necessary simulation parameters (crystal structures, defect densities, microscope parameters). These parameters should be carefully set to reflect the actual variation in your experimental data set.\n",
    "\n",
    "- ### post_process.py\n",
    "The py file contains post-processing functions and experimentalize parameters to make simulated images more realistic comparing to experimental images.\n",
    "\n",
    "## Note for incostem (computem)\n",
    "\n",
    "To run incostem successfully, check the following:\n",
    "1. Download the executable or compile it from the source code. Link: https://sourceforge.net/projects/computem/files/ \n",
    "2. The flag \"if_incostem_cmd\" in \"param.py\" must reflect your working environment. \"True\" for cmd users, \"False\" for Linux users.\n",
    "3. The path of computem must be added to the environmental variable of \"Path\""
   ]
  },
  {
   "cell_type": "code",
   "execution_count": null,
   "metadata": {},
   "outputs": [],
   "source": [
    "from generate_simulated_image import *"
   ]
  },
  {
   "cell_type": "code",
   "execution_count": null,
   "metadata": {},
   "outputs": [],
   "source": [
    "incostem_dir = \"./\"\n",
    "experimentalize=True\n",
    "bkg_file = incostem_dir + \"Bkg_stack_107.tif\"\n",
    "save_as_stack = True\n",
    "\n",
    "# incostem_dir is the main output directory for our final simulated images\n",
    "# experimentalize includes shear/contraction, brightness/contrast, Gaussian noise, and non-uniform background\n",
    "# The \"bkg_file\" is extracted from real experimental data to better emulate the surface contamination. \n",
    "# The background extraction could be done by imageJ or Fourier filtering\n"
   ]
  },
  {
   "cell_type": "code",
   "execution_count": null,
   "metadata": {
    "scrolled": true
   },
   "outputs": [],
   "source": [
    "create_simulated_image(incostem_dir, save_path=\"./sim_image/\", experimentalize=experimentalize, \n",
    "                       bkg_file=bkg_file, num_files = 10, save_as_stack=save_as_stack)"
   ]
  },
  {
   "cell_type": "code",
   "execution_count": null,
   "metadata": {},
   "outputs": [],
   "source": []
  }
 ],
 "metadata": {
  "kernelspec": {
   "display_name": "Python 3",
   "language": "python",
   "name": "python3"
  },
  "language_info": {
   "codemirror_mode": {
    "name": "ipython",
    "version": 3
   },
   "file_extension": ".py",
   "mimetype": "text/x-python",
   "name": "python",
   "nbconvert_exporter": "python",
   "pygments_lexer": "ipython3",
   "version": "3.8.5"
  }
 },
 "nbformat": 4,
 "nbformat_minor": 2
}
