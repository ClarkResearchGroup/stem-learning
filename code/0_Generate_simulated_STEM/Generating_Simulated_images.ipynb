{
 "cells": [
  {
   "cell_type": "markdown",
   "source": [
    "# Generating Simulated Images\n",
    "\n",
    "In this notebook, we'll generate simulated images from incostem (computem written by Earl Kirkland)\n",
    "\n",
    "Last modified: 08/04/2021\n",
    "\n",
    "## Overview\n",
    "\n",
    "- ### generate_simulated_image.py\n",
    "The main script including loading necessary parameters and functions, call incostem for image simulation, post-processing, and removing temporary files.\n",
    "\n",
    "- ### params.py\n",
    "The py file contains necessary simulation parameters (crystal structures, defect densities, microscope parameters). These parameters should be carefully set to reflect the actual variation in your experimental data set.\n",
    "\n",
    "- ### post_process.py\n",
    "The py file contains post-processing functions and experimentalize parameters to make simulated images more realistic comparing to experimental images.\n",
    "\n",
    "## Note for incostem (computem)\n",
    "\n",
    "To run incostem successfully, check the following:\n",
    "1. Download the executable or compile it from the source code. Link: https://sourceforge.net/projects/computem/files/ \n",
    "2. The flag \"if_incostem_cmd\" in \"param.py\" must reflect your working environment. \"True\" for cmd users, \"False\" for Linux users.\n",
    "3. The path of computem must be added to the environmental variable of \"Path\""
   ],
   "metadata": {}
  },
  {
   "cell_type": "code",
   "execution_count": 1,
   "source": [
    "from generate_simulated_image import *"
   ],
   "outputs": [],
   "metadata": {}
  },
  {
   "cell_type": "code",
   "execution_count": 2,
   "source": [
    "incostem_dir = \"./\"\n",
    "experimentalize=False\n",
    "bkg_file = None\n",
    "num_files = 1\n",
    "save_stack = True\n",
    "# incostem_dir is the main output directory for our final simulated images\n",
    "# experimentalize includes shear/contraction, brightness/contrast, Gaussian noise, and non-uniform background\n",
    "# The \"bkg_file\" is extracted from real experimental data to better emulate the surface contamination. \n",
    "# The background extraction could be done by imageJ or Fourier filtering\n"
   ],
   "outputs": [],
   "metadata": {}
  },
  {
   "cell_type": "code",
   "execution_count": 5,
   "source": [
    "create_simulated_image(incostem_dir, save_path=\"./sim_image/\", experimentalize=experimentalize, \n",
    "                       bkg_file=bkg_file, num_files = num_files, save_stack=save_stack)"
   ],
   "outputs": [
    {
     "output_type": "error",
     "ename": "NameError",
     "evalue": "name 'create_simulated_image' is not defined",
     "traceback": [
      "\u001b[0;31m---------------------------------------------------------------------------\u001b[0m",
      "\u001b[0;31mNameError\u001b[0m                                 Traceback (most recent call last)",
      "\u001b[0;32m/tmp/ipykernel_12564/4099696498.py\u001b[0m in \u001b[0;36m<module>\u001b[0;34m\u001b[0m\n\u001b[0;32m----> 1\u001b[0;31m create_simulated_image(incostem_dir, save_path=\"./sim_image/\", experimentalize=experimentalize, \n\u001b[0m\u001b[1;32m      2\u001b[0m                        bkg_file=bkg_file, num_files = num_files, save_stack=save_stack)\n",
      "\u001b[0;31mNameError\u001b[0m: name 'create_simulated_image' is not defined"
     ]
    }
   ],
   "metadata": {}
  },
  {
   "cell_type": "code",
   "execution_count": null,
   "source": [],
   "outputs": [],
   "metadata": {}
  }
 ],
 "metadata": {
  "kernelspec": {
   "name": "python3",
   "display_name": "Python 3.8.10 64-bit"
  },
  "language_info": {
   "codemirror_mode": {
    "name": "ipython",
    "version": 3
   },
   "file_extension": ".py",
   "mimetype": "text/x-python",
   "name": "python",
   "nbconvert_exporter": "python",
   "pygments_lexer": "ipython3",
   "version": "3.8.10"
  },
  "interpreter": {
   "hash": "916dbcbb3f70747c44a77c7bcd40155683ae19c65e1c03b4aa3499c5328201f1"
  }
 },
 "nbformat": 4,
 "nbformat_minor": 2
}